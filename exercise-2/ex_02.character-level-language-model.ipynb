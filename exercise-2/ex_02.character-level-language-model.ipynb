{
 "cells": [
  {
   "cell_type": "markdown",
   "id": "7210162f",
   "metadata": {},
   "source": [
    "# Exercise 1"
   ]
  },
  {
   "cell_type": "markdown",
   "id": "4955c4ad",
   "metadata": {},
   "source": [
    "Train a trigram language model, i.e. take two characters as an input to predict the 3rd one. Feel free to use either counting or a neural net.\n",
    "\n",
    "Evaluate the loss; \n",
    "Did it improve over a bigram model?"
   ]
  },
  {
   "cell_type": "markdown",
   "id": "613265cb",
   "metadata": {},
   "source": [
    "## 1.1 Statistic model"
   ]
  },
  {
   "cell_type": "code",
   "execution_count": 1,
   "id": "94a6372b",
   "metadata": {},
   "outputs": [],
   "source": [
    "words = open('names.txt','r').read().splitlines()"
   ]
  },
  {
   "cell_type": "code",
   "execution_count": 2,
   "id": "58141075",
   "metadata": {},
   "outputs": [
    {
     "data": {
      "text/plain": [
       "['emma',\n",
       " 'olivia',\n",
       " 'ava',\n",
       " 'isabella',\n",
       " 'sophia',\n",
       " 'charlotte',\n",
       " 'mia',\n",
       " 'amelia',\n",
       " 'harper',\n",
       " 'evelyn']"
      ]
     },
     "execution_count": 2,
     "metadata": {},
     "output_type": "execute_result"
    }
   ],
   "source": [
    "words[0:10]"
   ]
  },
  {
   "cell_type": "code",
   "execution_count": 3,
   "id": "b8632512",
   "metadata": {},
   "outputs": [],
   "source": [
    "# map  bigram to char\n",
    "t = {}\n",
    "for w in words:\n",
    "    chs = ['.']+ list(w)+['.']\n",
    "    for bi,ch in zip(zip(chs,chs[1:]),chs[2:]):\n",
    "        trigram = (bi,ch)\n",
    "        t[trigram] = t.get(trigram,0)+1\n",
    "#         print(ch1,ch2)"
   ]
  },
  {
   "cell_type": "code",
   "execution_count": 4,
   "id": "db7111fe",
   "metadata": {},
   "outputs": [],
   "source": [
    "import torch"
   ]
  },
  {
   "cell_type": "code",
   "execution_count": 5,
   "id": "243fe7fb",
   "metadata": {},
   "outputs": [],
   "source": [
    "#make bigramss\n",
    "bigrams_maker = map(lambda x: x[0],t.keys())\n",
    "bigrams_not_sorted = list((bigrams_maker))\n",
    "bigrams = sorted(list(set(bigrams_not_sorted)), key = lambda kv: kv)"
   ]
  },
  {
   "cell_type": "code",
   "execution_count": 6,
   "id": "8ca2f946",
   "metadata": {},
   "outputs": [],
   "source": [
    "# chars/bigrams to number and vice versa\n",
    "# chars\n",
    "chars = sorted(list(set(''.join(words))))\n",
    "ctoi = {s:i+1 for i,s in enumerate(chars)} # character to integer\n",
    "ctoi['.']=0\n",
    "itoc = {i:s for s,i in ctoi.items()} # integer to chatacter\n",
    "#bigrams\n",
    "btoi = {}\n",
    "itob = {}\n",
    "number = 0\n",
    "chars_dot = sorted(list(ctoi.keys()))\n",
    "for s1 in chars_dot:\n",
    "    for s2 in chars_dot:\n",
    "        btoi[s1+s2]=number\n",
    "        itob[number] =s1+s2\n",
    "        number+=1"
   ]
  },
  {
   "cell_type": "code",
   "execution_count": 7,
   "id": "0bf4057f",
   "metadata": {},
   "outputs": [],
   "source": [
    "#fill statistic matrix\n",
    "N = torch.zeros((len(btoi.keys()),27), dtype= torch.int32)\n",
    "\n",
    "for w in words:\n",
    "    chs = ['.']+ list(w)+['.']\n",
    "    for bi,ch in zip(zip(chs,chs[1:]),chs[2:]):\n",
    "#         trigram = (bi,ch)\n",
    "#         print(bi)\n",
    "        bi = f'{bi[0]}{bi[1]}'\n",
    "#         print(bi)\n",
    "        ix1 = btoi[bi]\n",
    "        ix2 = ctoi[ch]\n",
    "        N[ix1,ix2]+=1\n"
   ]
  },
  {
   "cell_type": "code",
   "execution_count": 8,
   "id": "8e06c23a",
   "metadata": {
    "scrolled": true
   },
   "outputs": [],
   "source": [
    "# create probability matrix\n",
    "# N+1 in case to not zeros probs when using nll\n",
    "P = (N+1).float()\n",
    "P /=P.sum(1,keepdim =True)"
   ]
  },
  {
   "cell_type": "code",
   "execution_count": 9,
   "id": "7a10fe6c",
   "metadata": {},
   "outputs": [
    {
     "name": "stdout",
     "output_type": "stream",
     "text": [
      "tensor(3, dtype=torch.int32)\n"
     ]
    }
   ],
   "source": [
    "print(N[10,3]) # first - bigram number, second - char number"
   ]
  },
  {
   "cell_type": "code",
   "execution_count": 10,
   "id": "41bdb6be",
   "metadata": {},
   "outputs": [],
   "source": [
    "# to predict names, we shoud make statistic of first two characters, starting with dot\n",
    "P_first = torch.zeros((26),dtype= torch.int32)\n",
    "for ch1,ch2 in bigrams_not_sorted:\n",
    "    if ctoi[ch1]==0:\n",
    "#         print(ch1,ch2)\n",
    "        num = ctoi[ch2]\n",
    "        P_first[num-1] +=1"
   ]
  },
  {
   "cell_type": "code",
   "execution_count": 11,
   "id": "306c58a5",
   "metadata": {},
   "outputs": [],
   "source": [
    "# create probability vector\n",
    "P_first = P_first.float()\n",
    "P_first /=P_first.sum()"
   ]
  },
  {
   "cell_type": "code",
   "execution_count": 12,
   "id": "ae9e7ff8",
   "metadata": {},
   "outputs": [
    {
     "name": "stdout",
     "output_type": "stream",
     "text": [
      ".b\n",
      "Probability for bigram [.b] followed by character [a] is 0.12753188610076904\n"
     ]
    }
   ],
   "source": [
    "# Fancy checking\n",
    "i = 2\n",
    "j = 1\n",
    "print(itob[i])\n",
    "print(f'Probability for bigram [{itob[i]}] followed by character [{itoc[j]}] is {P[i,j]}')"
   ]
  },
  {
   "cell_type": "code",
   "execution_count": 13,
   "id": "a9964354",
   "metadata": {},
   "outputs": [],
   "source": [
    "g_first = torch.Generator().manual_seed(2148483647)\n",
    "g = torch.Generator().manual_seed(2147983647)"
   ]
  },
  {
   "cell_type": "code",
   "execution_count": 14,
   "id": "2d24b8ca",
   "metadata": {},
   "outputs": [
    {
     "name": "stdout",
     "output_type": "stream",
     "text": [
      ".ca.\n",
      ".jachalqqpvaliyontlen.\n",
      ".wattelis.\n",
      ".vtklpmfortiri.\n",
      ".yalestyhqgh.\n",
      ".robirayven.\n",
      ".eiros.\n",
      ".hourdqjrx.\n",
      ".lah.\n",
      ".ia.\n",
      ".teone.\n",
      ".jamin.\n",
      ".kanvioan.\n",
      ".marlyner.\n",
      ".denii.\n",
      ".belia.\n",
      ".dakyraylie.\n",
      ".pheth.\n",
      ".bjarismah.\n",
      ".ho.\n"
     ]
    }
   ],
   "source": [
    "# name generator with stat model\n",
    "for i in range(20):\n",
    "    out = []\n",
    "    ix = 0\n",
    "    while True:\n",
    "        if not out:\n",
    "            p = P_first\n",
    "            ix = 0\n",
    "            # we don't need .. starting point\n",
    "            while ix==0:\n",
    "                ix = torch.multinomial(p, num_samples=1, replacement=True, generator=g_first).item()\n",
    "            out.append(itob[ix])\n",
    "            ix = ix \n",
    "        else:\n",
    "            p = P[ix]\n",
    "            #getting last char\n",
    "            prev_char = itob[ix][1:2]\n",
    "            #generate next char\n",
    "            ix = torch.multinomial(p, num_samples=1, replacement=True, generator=g).item()\n",
    "           #current char\n",
    "            cur_char = itoc[ix]\n",
    "            out.append(cur_char)\n",
    "            # check if it's dot\n",
    "            if ix==0:\n",
    "                break\n",
    "            #create next ix  (take second char of last bigramc 'prev_char' and concat with current 'cur_char')\n",
    "            ix = btoi[prev_char+cur_char]\n",
    "        if ix == 0:\n",
    "            break\n",
    "            \n",
    "    print(''.join(out))"
   ]
  },
  {
   "cell_type": "code",
   "execution_count": 15,
   "id": "685f5c98",
   "metadata": {},
   "outputs": [
    {
     "name": "stdout",
     "output_type": "stream",
     "text": [
      "log_likekihood=tensor(-410414.9688)\n",
      "nll=tensor(410414.9688)\n",
      "2.092747449874878\n"
     ]
    }
   ],
   "source": [
    "#calculate negative log-likelihood\n",
    "# log(abc) = log(a)+log(b)+log(c)\n",
    "log_likekihood = 0.0\n",
    "n=0\n",
    "\n",
    "for w in words:\n",
    "    chs = ['.']+ list(w)+['.']\n",
    "    for bi,ch in zip(zip(chs,chs[1:]),chs[2:]):\n",
    "        bx1 = btoi[bi[0]+bi[1]]\n",
    "        ix2 = ctoi[ch]\n",
    "        prob = P[bx1,ix2]\n",
    "        logprob = torch.log(prob)\n",
    "        log_likekihood+=logprob\n",
    "        n+=1\n",
    "\n",
    "print(f'{log_likekihood=}')\n",
    "nll = -log_likekihood\n",
    "print(f'{nll=}')\n",
    "print(f'{nll/n}')"
   ]
  },
  {
   "cell_type": "markdown",
   "id": "832937ac",
   "metadata": {},
   "source": [
    "## 1.1 Simple trigram 'net'"
   ]
  },
  {
   "cell_type": "code",
   "execution_count": 16,
   "id": "517b3f67",
   "metadata": {},
   "outputs": [],
   "source": [
    "#regularizations\n",
    "regs = {}\n",
    "\n",
    "regs['L1'] = lambda x, lamb: lamb*(x).mean()\n",
    "regs['L2'] = lambda x, lamb: lamb*(x**2).mean()\n",
    "regs['ElasticNet'] = lambda x, lamb: regs['L1'](x, lamb) + regs['L2'](x, lamb)"
   ]
  },
  {
   "cell_type": "code",
   "execution_count": 17,
   "id": "e255ddf5",
   "metadata": {},
   "outputs": [],
   "source": [
    "#create model class\n",
    "from math import pow\n",
    "import torch.nn.functional as F\n",
    "\n",
    "class Net():\n",
    "    def __init__(self, ngrams,gen = None, bias = False,lr = 50, regul = 'L2', lamb = 0.01, name = \"model\"):\n",
    "        self.ngrams = int(pow(27,ngrams))\n",
    "        self.out = 27\n",
    "        self.lr = lr\n",
    "        self.lamb = lamb\n",
    "        self.reg = regs[regul]\n",
    "        self.name = name\n",
    "        \n",
    "        if not gen:\n",
    "            self.gen = torch.Generator().manual_seed(2148483647)\n",
    "        else:\n",
    "            self.gen = gen    \n",
    "        self.W = torch.randn((self.ngrams, self.out), generator= self.gen, requires_grad=True)\n",
    "        self.bias = bias\n",
    "        if bias:\n",
    "            self.b = torch.randn((self.out), generator = self.gen, requires_grad=True)\n",
    "            \n",
    "    def train(self, xs, ys, steps=100):\n",
    "        for k in range(steps):\n",
    "  \n",
    "            # forward pass\n",
    "            xenc = F.one_hot(xs, self.ngrams).float() # input to the network: one-hot encoding\n",
    "            if self.bias:\n",
    "                logits = xenc @ self.W + self.b # predict log-counts x*w+b\n",
    "            else:\n",
    "                logits = xenc @ self.W # x*w\n",
    "            counts = logits.exp() # counts, equivalent to N\n",
    "            probs = counts / counts.sum(1, keepdims=True) # probabilities for next character\n",
    "            loss = -probs[torch.arange(xs.nelement()), ys].log().mean() + self.reg(self.W, self.lamb)\n",
    "\n",
    "            # backward pass\n",
    "            self.W.grad = None # set to zero the gradient\n",
    "            loss.backward()\n",
    "\n",
    "            # update\n",
    "            self.W.data += -self.lr * self.W.grad\n",
    "            \n",
    "        return logits, loss.item()\n",
    "            \n",
    "    def evaluate(self,xs,ys):\n",
    "        xenc = F.one_hot(xs, self.ngrams).float() # input to the network: one-hot encoding\n",
    "        if self.bias:\n",
    "                logits = xenc @ self.W + self.b # predict log-counts x*w+b\n",
    "        else:\n",
    "                logits = xenc @ self.W # x*w\n",
    "        counts = logits.exp() # counts, equivalent to N\n",
    "        probs = counts / counts.sum(1, keepdims=True) # probabilities for next character\n",
    "        \n",
    "        loss = -probs[torch.arange(xs.nelement()), ys].log().mean() + self.reg(self.W, self.lamb)\n",
    "        return loss.item()\n",
    "        \n",
    "    def generate(self,number=10):\n",
    "        # finally, sample from the 'neural net' model\n",
    "        outs = []\n",
    "        for i in range(number):\n",
    "            out = []\n",
    "            ix = 0\n",
    "            while True:\n",
    "                if not out:\n",
    "                    p = P_first\n",
    "                    ix = 0\n",
    "                    # we don't need [..] bigram as starting point\n",
    "                    while ix==0:\n",
    "                        ix = torch.multinomial(p, num_samples=1, replacement=True, generator=self.gen).item()\n",
    "                    out.append(itob[ix])\n",
    "                    ix = ix\n",
    "                else:\n",
    "                    #---------\n",
    "                    # BEFORE:\n",
    "                    #p = P[ix]\n",
    "                    #---------\n",
    "                    # NOW:\n",
    "                    xenc = F.one_hot(torch.tensor([ix]),self.ngrams).float()\n",
    "                    logits = xenc @ self.W # predict log-counts\n",
    "                    counts = logits.exp() # counts, equivalent to N\n",
    "                    p = counts / counts.sum(1, keepdims=True) # probabilities for next character\n",
    "                    #---------\n",
    "                    #getting last char\n",
    "                    prev_char = itob[ix][-1]\n",
    "                    #generate next char\n",
    "                    ix = torch.multinomial(p, num_samples=1, replacement=True, generator=self.gen).item()\n",
    "                    #current char\n",
    "                    cur_char = itoc[ix]\n",
    "                    out.append(cur_char)\n",
    "                    # check if it's dot\n",
    "                    if ix==0:\n",
    "                        break\n",
    "                    #create next ix  (take second char of last bigramc 'prev_char' and concat with current 'cur_char')\n",
    "                    ix = btoi[prev_char+cur_char]\n",
    "                if ix == 0:\n",
    "                    break\n",
    "\n",
    "            outs.append(''.join(out))\n",
    "        return outs\n",
    "            "
   ]
  },
  {
   "cell_type": "code",
   "execution_count": 18,
   "id": "2e99b561",
   "metadata": {},
   "outputs": [
    {
     "name": "stdout",
     "output_type": "stream",
     "text": [
      "number of examples:  196113\n"
     ]
    }
   ],
   "source": [
    "# create the dataset\n",
    "xs, ys = [], []\n",
    "for w in words:\n",
    "    chs = ['.'] + list(w) + ['.']\n",
    "    for bi,ch in zip(zip(chs,chs[1:]),chs[2:]):\n",
    "        bx1 = btoi[bi[0]+bi[1]]\n",
    "        ix2 = ctoi[ch]\n",
    "        xs.append(bx1)\n",
    "        ys.append(ix2)\n",
    "xs = torch.tensor(xs)\n",
    "ys = torch.tensor(ys)\n",
    "num = xs.nelement()\n",
    "print('number of examples: ', num)"
   ]
  },
  {
   "cell_type": "code",
   "execution_count": 19,
   "id": "ce58a546",
   "metadata": {},
   "outputs": [],
   "source": [
    "nn = Net(ngrams=2)"
   ]
  },
  {
   "cell_type": "code",
   "execution_count": 20,
   "id": "4f6e84e5",
   "metadata": {},
   "outputs": [
    {
     "data": {
      "text/plain": [
       "(tensor([[-1.6748, -0.0565, -0.3471,  ..., -1.0068,  0.1063,  0.9243],\n",
       "         [ 2.7980,  2.8903,  1.0213,  ..., -1.4817,  1.1807, -0.4645],\n",
       "         [-0.0521,  3.2333,  0.1094,  ..., -1.2024,  0.4162, -1.4900],\n",
       "         ...,\n",
       "         [ 1.6560,  1.6288, -0.1112,  ..., -1.0540, -0.8530, -0.0147],\n",
       "         [-0.7512,  1.9500,  1.4730,  ...,  0.0272, -0.3875,  1.0157],\n",
       "         [ 1.6579,  1.5247,  0.1407,  ..., -1.0709, -0.3184, -0.5341]],\n",
       "        grad_fn=<MmBackward0>),\n",
       " 2.167802095413208)"
      ]
     },
     "execution_count": 20,
     "metadata": {},
     "output_type": "execute_result"
    }
   ],
   "source": [
    "nn.train(xs,ys,500)"
   ]
  },
  {
   "cell_type": "code",
   "execution_count": 21,
   "id": "f627fa0d",
   "metadata": {},
   "outputs": [
    {
     "name": "stdout",
     "output_type": "stream",
     "text": [
      ".fcpjlann.\n",
      ".tiellyn.\n",
      ".huocryxfxw.\n",
      ".yandinellyn.\n",
      ".chqrsomiquefxfbwcsqtjuhavcswctch.\n",
      ".ta.\n",
      ".hasir.\n",
      ".braystephgbpcveshoey.\n",
      ".cadia.\n",
      ".graxbrin.\n"
     ]
    }
   ],
   "source": [
    "for name in nn.generate():\n",
    "    print(name)"
   ]
  },
  {
   "cell_type": "code",
   "execution_count": 22,
   "id": "860af3e1",
   "metadata": {},
   "outputs": [
    {
     "name": "stdout",
     "output_type": "stream",
     "text": [
      "2.1676483154296875\n"
     ]
    }
   ],
   "source": [
    "print(nn.evaluate(xs,ys))"
   ]
  },
  {
   "cell_type": "markdown",
   "id": "a1653065",
   "metadata": {},
   "source": [
    "## Conlcusion "
   ]
  },
  {
   "cell_type": "markdown",
   "id": "32b12dd0",
   "metadata": {},
   "source": [
    "Loss became smaller due to expanded information used to predict next character (2 characters used instead of 1)"
   ]
  },
  {
   "cell_type": "markdown",
   "id": "4539ce8a",
   "metadata": {},
   "source": [
    "# Exercise 2"
   ]
  },
  {
   "cell_type": "markdown",
   "id": "8e1d43e9",
   "metadata": {},
   "source": [
    "Split up the dataset randomly into 80% train set, 10% dev set, 10% test set. Train the bigram and trigram models only on the training set. \n",
    "\n",
    "Evaluate them on dev and test splits. What can you see?"
   ]
  },
  {
   "cell_type": "code",
   "execution_count": 23,
   "id": "16938471",
   "metadata": {},
   "outputs": [],
   "source": [
    "from sklearn.model_selection import train_test_split"
   ]
  },
  {
   "cell_type": "code",
   "execution_count": 24,
   "id": "0246264e",
   "metadata": {},
   "outputs": [
    {
     "name": "stdout",
     "output_type": "stream",
     "text": [
      "X_train size: 156891, y_train size: 156891\n",
      "X_dev size: 19612, y_dev size: 19612\n",
      "X_test size: 19610, y_test size: 19610\n"
     ]
    }
   ],
   "source": [
    "# create the dataset\n",
    "xs, ys = [], []\n",
    "for w in words:\n",
    "    chs = ['.'] + list(w) + ['.']\n",
    "    for bi,ch in zip(zip(chs,chs[1:]),chs[2:]):\n",
    "        bx1 = btoi[bi[0]+bi[1]]\n",
    "        ix2 = ctoi[ch]\n",
    "        xs.append(bx1)\n",
    "        ys.append(ix2)\n",
    "xs = torch.tensor(xs)\n",
    "ys = torch.tensor(ys)\n",
    "num = xs.nelement()\n",
    "\n",
    "# split to train/dev/test\n",
    "X_train,X_dev,y_train,y_dev = train_test_split(xs, ys, test_size=0.1)\n",
    "X_train,X_test,y_train,y_test = train_test_split(X_train, y_train, test_size=0.1111, random_state=2023)\n",
    "print(f'X_train size: {X_train.size(dim=0)}, y_train size: {y_train.size(dim=0)}')\n",
    "print(f'X_dev size: {X_dev.size(dim=0)}, y_dev size: {y_dev.size(dim=0)}')\n",
    "print(f'X_test size: {X_test.size(dim=0)}, y_test size: {y_test.size(dim=0)}')"
   ]
  },
  {
   "cell_type": "code",
   "execution_count": 25,
   "id": "7f7f0514",
   "metadata": {},
   "outputs": [],
   "source": [
    "nn = Net(2)"
   ]
  },
  {
   "cell_type": "code",
   "execution_count": 26,
   "id": "207a2958",
   "metadata": {},
   "outputs": [
    {
     "data": {
      "text/plain": [
       "(tensor([[-0.9302,  5.4039, -0.8159,  ..., -0.8756,  2.6719, -1.1904],\n",
       "         [ 3.5665,  2.7136, -0.5573,  ..., -1.3525,  2.8615, -0.9304],\n",
       "         [ 1.4338,  1.9930, -0.1504,  ..., -0.9458,  0.9148, -0.1160],\n",
       "         ...,\n",
       "         [ 3.8636, -0.4589, -0.9401,  ..., -1.8879, -0.8645, -1.7151],\n",
       "         [ 4.1966,  0.7146, -0.9083,  ..., -1.2519, -0.8284, -0.5964],\n",
       "         [ 2.2674,  2.3368, -1.0581,  ..., -0.4648,  1.0905, -0.8874]],\n",
       "        grad_fn=<MmBackward0>),\n",
       " 2.1643447875976562)"
      ]
     },
     "execution_count": 26,
     "metadata": {},
     "output_type": "execute_result"
    }
   ],
   "source": [
    "nn.train(X_train, y_train, 500)"
   ]
  },
  {
   "cell_type": "code",
   "execution_count": 27,
   "id": "c6b90078",
   "metadata": {},
   "outputs": [
    {
     "name": "stdout",
     "output_type": "stream",
     "text": [
      "Loss on train set is 2.1794252395629883\n",
      "Loss on dev set is 2.1794252395629883\n",
      "Loss on test set is 2.2008564472198486\n"
     ]
    }
   ],
   "source": [
    "train_loss = nn.evaluate(X_train, y_train)\n",
    "dev_loss = nn.evaluate(X_dev, y_dev)\n",
    "test_loss = nn.evaluate(X_test, y_test)\n",
    "print(f'Loss on train set is {dev_loss}')\n",
    "print(f'Loss on dev set is {dev_loss}')\n",
    "print(f'Loss on test set is {test_loss}')"
   ]
  },
  {
   "cell_type": "code",
   "execution_count": 28,
   "id": "d5545be8",
   "metadata": {},
   "outputs": [
    {
     "name": "stdout",
     "output_type": "stream",
     "text": [
      ".fen.\n",
      ".jarrevellizailyn.\n",
      ".ruzjus.\n",
      ".yandinellyn.\n",
      ".chrimickiqljye.\n",
      ".sanie.\n",
      ".sabramper.\n",
      ".jaya.\n",
      ".hasir.\n",
      ".braystephi.\n"
     ]
    }
   ],
   "source": [
    "for names in nn.generate():\n",
    "    print(names)"
   ]
  },
  {
   "cell_type": "markdown",
   "id": "9b19b98b",
   "metadata": {},
   "source": [
    "Loss on dev and test sets a bit larges then on train set. The distribution of trigrams quite close in all datasets."
   ]
  },
  {
   "cell_type": "markdown",
   "id": "67e4967c",
   "metadata": {},
   "source": [
    "# Exercise 3"
   ]
  },
  {
   "cell_type": "markdown",
   "id": "bb867942",
   "metadata": {},
   "source": [
    "Use the dev set to tune the strength of smoothing (or regularization) for the trigram model - i.e. try many possibilities and see which one works best based on the dev set loss. \n",
    "\n",
    "What patterns can you see in the train and dev set loss as you tune this strength? Take the best setting of the smoothing and evaluate on the test set once and at the end. How good of a loss do you achieve?"
   ]
  },
  {
   "cell_type": "code",
   "execution_count": 29,
   "id": "4cd37b84",
   "metadata": {},
   "outputs": [],
   "source": [
    "# thoughts:\n",
    "# - add bias (need more learning and achieving better result)\n",
    "# - change lambda \n",
    "# -  add Elastic Net(l1+l2) (ElasticNet slightly better)\n",
    "# - change learning rate (changing every 1k steps)\n",
    "# - add batch (not needed, we procced all input by operation (Len(input), 729) @ (729, 27) )"
   ]
  },
  {
   "cell_type": "markdown",
   "id": "9c5fed3b",
   "metadata": {},
   "source": [
    "## 3.1 With vs Without bias"
   ]
  },
  {
   "cell_type": "code",
   "execution_count": 30,
   "id": "d28cadc3",
   "metadata": {},
   "outputs": [],
   "source": [
    "# with bias\n",
    "nn_wb = Net(ngrams=2,bias=True, name = 'nn_wb')\n",
    "# without bias\n",
    "nn_wob = Net(ngrams= 2, bias= False, name ='nn_wob')"
   ]
  },
  {
   "cell_type": "code",
   "execution_count": 31,
   "id": "c3292886",
   "metadata": {},
   "outputs": [],
   "source": [
    "#create training epoch loop\n",
    "def train_epoch(model, epoch, treshhold = 10):\n",
    "    train_ls = []\n",
    "    dev_ls = []\n",
    "    for _ in range(epoch):\n",
    "        logits, train_loss =  model.train(X_train, y_train)\n",
    "        train_ls.append(train_loss)\n",
    "        print(f'train loss on {(_+1)*100} steps for {model.name} is {train_loss:.4f}')\n",
    "\n",
    "        dev_loss = model.evaluate(X_dev, y_dev)\n",
    "        dev_ls.append(dev_loss)\n",
    "        print(f'dev loss on {(_+1)*100} steps for {model.name} is {dev_loss:.4f}')\n",
    "\n",
    "        steps = _\n",
    "        if (_!=0) & (_%treshhold==treshhold-1):\n",
    "            model.lr -=10\n",
    "            print(f'learining rate is changed to {model.lr}')\n",
    "     \n",
    "    print(f'Model {model.name} dev_loss is {dev_ls[-1]:.4f}')\n",
    "    \n",
    "    return train_ls, dev_ls, steps"
   ]
  },
  {
   "cell_type": "code",
   "execution_count": 32,
   "id": "b831fc7d",
   "metadata": {},
   "outputs": [
    {
     "name": "stdout",
     "output_type": "stream",
     "text": [
      "train loss on 100 steps for nn_wb is 2.6115\n",
      "dev loss on 100 steps for nn_wb is 2.6108\n",
      "train loss on 200 steps for nn_wb is 2.3867\n",
      "dev loss on 200 steps for nn_wb is 2.3927\n",
      "train loss on 300 steps for nn_wb is 2.2968\n",
      "dev loss on 300 steps for nn_wb is 2.3065\n",
      "train loss on 400 steps for nn_wb is 2.2478\n",
      "dev loss on 400 steps for nn_wb is 2.2602\n",
      "train loss on 500 steps for nn_wb is 2.2170\n",
      "dev loss on 500 steps for nn_wb is 2.2319\n",
      "train loss on 600 steps for nn_wb is 2.1961\n",
      "dev loss on 600 steps for nn_wb is 2.2129\n",
      "train loss on 700 steps for nn_wb is 2.1809\n",
      "dev loss on 700 steps for nn_wb is 2.1994\n",
      "train loss on 800 steps for nn_wb is 2.1695\n",
      "dev loss on 800 steps for nn_wb is 2.1894\n",
      "train loss on 900 steps for nn_wb is 2.1606\n",
      "dev loss on 900 steps for nn_wb is 2.1816\n",
      "train loss on 1000 steps for nn_wb is 2.1534\n",
      "dev loss on 1000 steps for nn_wb is 2.1755\n",
      "learining rate is changed to 40\n",
      "Model nn_wb dev_loss is 2.1755\n",
      "train loss on 100 steps for nn_wob is 2.4005\n",
      "dev loss on 100 steps for nn_wob is 2.4040\n",
      "train loss on 200 steps for nn_wob is 2.2677\n",
      "dev loss on 200 steps for nn_wob is 2.2757\n",
      "train loss on 300 steps for nn_wob is 2.2134\n",
      "dev loss on 300 steps for nn_wob is 2.2242\n",
      "train loss on 400 steps for nn_wob is 2.1834\n",
      "dev loss on 400 steps for nn_wob is 2.1965\n",
      "train loss on 500 steps for nn_wob is 2.1643\n",
      "dev loss on 500 steps for nn_wob is 2.1794\n",
      "train loss on 600 steps for nn_wob is 2.1512\n",
      "dev loss on 600 steps for nn_wob is 2.1679\n",
      "train loss on 700 steps for nn_wob is 2.1416\n",
      "dev loss on 700 steps for nn_wob is 2.1596\n",
      "train loss on 800 steps for nn_wob is 2.1343\n",
      "dev loss on 800 steps for nn_wob is 2.1534\n",
      "train loss on 900 steps for nn_wob is 2.1285\n",
      "dev loss on 900 steps for nn_wob is 2.1486\n",
      "train loss on 1000 steps for nn_wob is 2.1239\n",
      "dev loss on 1000 steps for nn_wob is 2.1448\n",
      "learining rate is changed to 40\n",
      "Model nn_wob dev_loss is 2.1448\n"
     ]
    }
   ],
   "source": [
    "#gather data\n",
    "train_ls_wb,dev_ls_wb ,steps = train_epoch(nn_wb,10,15)\n",
    "train_ls_wob,dev_ls_wob, stes = train_epoch(nn_wob,10,15)\n",
    "train_ls = list([train_ls_wb,train_ls_wob])\n",
    "dev_ls = list([dev_ls_wb,dev_ls_wob])"
   ]
  },
  {
   "cell_type": "code",
   "execution_count": 33,
   "id": "78d9fa0d",
   "metadata": {},
   "outputs": [
    {
     "name": "stdout",
     "output_type": "stream",
     "text": [
      "Dev loss of our model with bias is     2.1755\n",
      "Dev loss of our model without bias is  2.1448\n"
     ]
    }
   ],
   "source": [
    "print(f'Dev loss of our model with bias is     {dev_ls_wb[-1]:.4f}')\n",
    "print(f'Dev loss of our model without bias is  {dev_ls_wob[-1]:.4f}')"
   ]
  },
  {
   "cell_type": "code",
   "execution_count": 34,
   "id": "660cbc0d",
   "metadata": {},
   "outputs": [
    {
     "data": {
      "image/png": "[encoded data removed]",
      "text/plain": [
       "<Figure size 1152x288 with 2 Axes>"
      ]
     },
     "metadata": {
      "needs_background": "light"
     },
     "output_type": "display_data"
    }
   ],
   "source": [
    "import matplotlib.pyplot as plt\n",
    "\n",
    "plt.style.use('ggplot')\n",
    "%matplotlib inline\n",
    "\n",
    "titles = ['NN with bias','NN without bias']\n",
    "\n",
    "fig, axs = plt.subplots(1,2,figsize=(16, 4))\n",
    "\n",
    "for idx,ax in enumerate(axs):\n",
    "    ax.plot(range(steps+1), train_ls[idx], alpha=0.5, color='blue', label='train_loss')\n",
    "    ax.plot(range(steps+1), dev_ls[idx], alpha=0.5, color='red', label='dev_loss')\n",
    "    ax.legend(loc='best')\n",
    "    ax.set_ylabel(\"Negative log likelihood\")\n",
    "    ax.set_xlabel(\"Every 100 steps\")\n",
    "    ax.set_title(titles[idx])\n",
    "\n",
    "plt.show()"
   ]
  },
  {
   "cell_type": "code",
   "execution_count": 35,
   "id": "4960ed2b",
   "metadata": {},
   "outputs": [
    {
     "name": "stdout",
     "output_type": "stream",
     "text": [
      "Loss on the test set for our model with bias is 2.1980\n",
      "Loss on the test set for our model without bias is 2.1666\n"
     ]
    }
   ],
   "source": [
    "# compute test loss with our model with L2 regularization\n",
    "test_wb = nn_wb.evaluate(X_test, y_test)\n",
    "print(f'Loss on the test set for our model with bias is {test_wb:.4f}')\n",
    "\n",
    "test_wob = nn_wob.evaluate(X_test, y_test)\n",
    "print(f'Loss on the test set for our model without bias is {test_wob:.4f}')"
   ]
  },
  {
   "cell_type": "code",
   "execution_count": 36,
   "id": "800c6477",
   "metadata": {},
   "outputs": [
    {
     "name": "stdout",
     "output_type": "stream",
     "text": [
      "Model with bias:.dannayechavaniadren. Model without bias:.fen.\n",
      "Model with bias:.broihaipdcbbalarainan. Model without bias:.jarrevellizailyn.\n",
      "Model with bias:.gavaanson. Model without bias:.ruziyk.\n",
      "Model with bias:.terlia. Model without bias:.yandinellyn.\n",
      "Model with bias:.jayras. Model without bias:.chrimickiracy.\n",
      "Model with bias:.do. Model without bias:.samin.\n",
      "Model with bias:.faarina. Model without bias:.sabramper.\n",
      "Model with bias:.airanoakaeah. Model without bias:.jaya.\n",
      "Model with bias:.daviahiaarabarrah. Model without bias:.hasir.\n",
      "Model with bias:.farichrola. Model without bias:.braystephgbomehter.\n"
     ]
    }
   ],
   "source": [
    "for names_wb,names_wob in zip(nn_wb.generate(),nn_wob.generate()):\n",
    "    print(f'Model with bias:{names_wb} Model without bias:{names_wob}')"
   ]
  },
  {
   "cell_type": "markdown",
   "id": "154f32a7",
   "metadata": {},
   "source": [
    "## 3.2 Trying ElasticNet regularization"
   ]
  },
  {
   "cell_type": "markdown",
   "id": "5921bad2",
   "metadata": {},
   "source": [
    "Let's compute  till the moment, when the difference in loss between 100 steps is less then 1e-4"
   ]
  },
  {
   "cell_type": "code",
   "execution_count": 37,
   "id": "25f9225b",
   "metadata": {},
   "outputs": [],
   "source": [
    "# ElasticNet regul\n",
    "nn_EN = Net(ngrams=2,bias=True, regul='ElasticNet')\n",
    "\n",
    "train_ls = []\n",
    "dev_ls = []\n",
    "\n",
    "start_loss = nn_EN.evaluate(X_test,y_test)"
   ]
  },
  {
   "cell_type": "code",
   "execution_count": 38,
   "id": "6c0d8aaa",
   "metadata": {},
   "outputs": [
    {
     "name": "stdout",
     "output_type": "stream",
     "text": [
      "train loss on 100 steps for model is 2.6116\n",
      "dev loss on 100 steps for model is 2.6109\n",
      "train loss on 200 steps for model is 2.3867\n",
      "dev loss on 200 steps for model is 2.3928\n",
      "train loss on 300 steps for model is 2.2969\n",
      "dev loss on 300 steps for model is 2.3065\n",
      "train loss on 400 steps for model is 2.2478\n",
      "dev loss on 400 steps for model is 2.2602\n",
      "train loss on 500 steps for model is 2.2171\n",
      "dev loss on 500 steps for model is 2.2319\n",
      "train loss on 600 steps for model is 2.1961\n",
      "dev loss on 600 steps for model is 2.2129\n",
      "train loss on 700 steps for model is 2.1809\n",
      "dev loss on 700 steps for model is 2.1994\n",
      "train loss on 800 steps for model is 2.1694\n",
      "dev loss on 800 steps for model is 2.1893\n",
      "train loss on 900 steps for model is 2.1605\n",
      "dev loss on 900 steps for model is 2.1815\n",
      "train loss on 1000 steps for model is 2.1533\n",
      "dev loss on 1000 steps for model is 2.1754\n",
      "learining rate is changed to 40\n",
      "Model model dev_loss is 2.1754\n"
     ]
    }
   ],
   "source": [
    "train_ls_EN,dev_ls_EN, steps = train_epoch(nn_EN,10)"
   ]
  },
  {
   "cell_type": "code",
   "execution_count": 39,
   "id": "b9198ad6",
   "metadata": {},
   "outputs": [],
   "source": [
    "#as we can see, ElasticNet regularization a bit better"
   ]
  },
  {
   "cell_type": "code",
   "execution_count": 40,
   "id": "444206ea",
   "metadata": {},
   "outputs": [
    {
     "data": {
      "image/png": "[encoded data removed]",
      "text/plain": [
       "<Figure size 576x288 with 1 Axes>"
      ]
     },
     "metadata": {
      "needs_background": "light"
     },
     "output_type": "display_data"
    }
   ],
   "source": [
    "plt.style.use('ggplot')\n",
    "%matplotlib inline\n",
    "\n",
    "fig, ax = plt.subplots(figsize=(8, 4))\n",
    "ax.plot(range(steps+1), train_ls_EN, alpha=0.5, color='blue', label='train_loss')\n",
    "ax.plot(range(steps+1), dev_ls_EN, alpha=0.5, color='red', label='dev_loss')\n",
    "ax.legend(loc='best')\n",
    "ax.set_ylabel(\"Negative log likelihood\")\n",
    "ax.set_xlabel(\"Every 100 steps\")\n",
    "ax.set_title('Model with ElasticNet regularization')\n",
    "\n",
    "plt.show()"
   ]
  },
  {
   "cell_type": "code",
   "execution_count": 41,
   "id": "daca2f56",
   "metadata": {},
   "outputs": [
    {
     "name": "stdout",
     "output_type": "stream",
     "text": [
      "Test loss before fine-tuning is 4.8236\n",
      "Test loss after fine-tuning regularization is 2.1979\n"
     ]
    }
   ],
   "source": [
    "test_EN_loss = nn_EN.evaluate(X_test, y_test)\n",
    "print(f'Test loss before fine-tuning is {start_loss:.4f}')\n",
    "print(f'Test loss after fine-tuning regularization is {test_EN_loss:.4f}')"
   ]
  },
  {
   "cell_type": "code",
   "execution_count": 42,
   "id": "eb564ab0",
   "metadata": {},
   "outputs": [
    {
     "name": "stdout",
     "output_type": "stream",
     "text": [
      ".dannayechavaniadren.\n",
      ".broihaipdcbbalarainan.\n",
      ".gavaanson.\n",
      ".terlia.\n",
      ".jayras.\n",
      ".do.\n",
      ".faarina.\n",
      ".airanoakaeah.\n",
      ".daviahiaarabarrah.\n",
      ".farichrola.\n"
     ]
    }
   ],
   "source": [
    "#cheking generated names\n",
    "for names in nn_EN.generate():\n",
    "    print(names)"
   ]
  },
  {
   "cell_type": "markdown",
   "id": "2b7e6b2f",
   "metadata": {},
   "source": [
    "Train set achieving less loss due to fitting on train distribution , while  dev and test sets distributions slightly different. At some moment, dev set loss will stop changing and that's the point when model gets to overfitting zone.\n",
    "\n",
    "Best achieved loss is 2.1588 (It might be better, but loss already pretty close to the limit)\n",
    "\n",
    "In next section with faster model we might get better result."
   ]
  },
  {
   "cell_type": "markdown",
   "id": "e432eece",
   "metadata": {},
   "source": [
    "# Exercise 4&5."
   ]
  },
  {
   "cell_type": "markdown",
   "id": "e518bca8",
   "metadata": {},
   "source": [
    "Ex 4. We saw that our 1-hot vectors merely select a row of W, so producing these vectors explicitly feels wasteful. Can you delete our use of F.one_hot in favor of simply indexing into rows of W?"
   ]
  },
  {
   "cell_type": "markdown",
   "id": "a4c67f48",
   "metadata": {},
   "source": [
    "Ex 5. Look up and use F.cross_entropy instead. You should achieve the same result. Can you think of why we'd prefer to use F.cross_entropy instead?"
   ]
  },
  {
   "cell_type": "code",
   "execution_count": 43,
   "id": "78fe22e8",
   "metadata": {},
   "outputs": [],
   "source": [
    "#(Len(dataset), 729) @ (729, 27) = (Len(dataset), 27) instead of 729 one-hot we can use row with number of current element\n",
    "# we can store the right row for current bigram\n",
    "# we should:\n",
    "# compute the bigram number\n",
    "# take that row into logits (didn't work)\n",
    "# simply create new tensor by this way: w[x] w-weight matrix, x - train set (worked)"
   ]
  },
  {
   "cell_type": "code",
   "execution_count": 44,
   "id": "321e7f0f",
   "metadata": {},
   "outputs": [],
   "source": [
    "# To change nll loss to cross_entropy loss we should:\n",
    "# don't log our probabilities, feed row logits to the cross_entropy loss"
   ]
  },
  {
   "cell_type": "code",
   "execution_count": 45,
   "id": "54c04f44",
   "metadata": {},
   "outputs": [
    {
     "name": "stdout",
     "output_type": "stream",
     "text": [
      "tensor([[0., 0., 0.],\n",
      "        [0., 0., 0.]])\n",
      "tensor([[1.0000, 3.0000, 4.0000],\n",
      "        [4.9000, 5.6000, 1.3000]], grad_fn=<CopySlices>)\n",
      "tensor([[  2.7183,  20.0855,  54.5981],\n",
      "        [134.2898, 270.4264,   3.6693]], grad_fn=<ExpBackward0>)\n",
      "tensor([[0.0351, 0.2595, 0.7054],\n",
      "        [0.3288, 0.6622, 0.0090]], grad_fn=<DivBackward0>)\n"
     ]
    }
   ],
   "source": [
    "# we cannot use in-place operation in requires_grad tensor, but we can rearange the matrix by the rows\n",
    "#checking how backpropagation in torch is working\n",
    "logits = torch.zeros((2,3))\n",
    "example =torch.tensor([[1.0, 2.0, 3.0], [4.5, 5.5, 6.6]], requires_grad = True)\n",
    "print(logits)\n",
    "# for i in range(xs.nelement()):\n",
    "#     logits[i] = example[xs[i].item()]\n",
    "logits[0] += torch.tensor([1.0,3.0,4.0],requires_grad= True)\n",
    "logits[1] += torch.tensor([4.9,5.6,1.3], requires_grad = True)\n",
    "print(logits)\n",
    "counts = logits.exp()\n",
    "print(counts)\n",
    "probs = counts / counts.sum(1, keepdims=True)\n",
    "print(probs)\n",
    "test = -probs.log().mean()"
   ]
  },
  {
   "cell_type": "code",
   "execution_count": 46,
   "id": "dd136ad4",
   "metadata": {},
   "outputs": [
    {
     "name": "stdout",
     "output_type": "stream",
     "text": [
      "tensor([[ 0.0238, -1.2784,  0.8397, -0.9924,  0.0563],\n",
      "        [-0.8394, -0.5662,  1.3886, -0.7278,  0.7246],\n",
      "        [-0.7902, -0.4120,  0.6148,  1.7663,  0.1429]], requires_grad=True)\n",
      "tensor([[0.2029, 0.0552, 0.4588, 0.0734, 0.2096],\n",
      "        [0.0572, 0.0751, 0.5306, 0.0639, 0.2732],\n",
      "        [0.0455, 0.0664, 0.1855, 0.5868, 0.1157]], grad_fn=<DivBackward0>)\n",
      "tensor([[0.2029, 0.0552, 0.4588, 0.0734, 0.2096],\n",
      "        [0.0572, 0.0751, 0.5306, 0.0639, 0.2732],\n",
      "        [0.0455, 0.0664, 0.1855, 0.5868, 0.1157]], grad_fn=<SoftmaxBackward0>)\n",
      "tensor(2.6385, grad_fn=<NllLossBackward0>)\n",
      "tensor([[ 0.0676, -0.3149,  0.1529,  0.0245,  0.0699],\n",
      "        [-0.3143,  0.0250,  0.1769,  0.0213,  0.0911],\n",
      "        [ 0.0152,  0.0221,  0.0618,  0.1956, -0.2948]])\n"
     ]
    }
   ],
   "source": [
    "#compute softmax by formula and using torch function\n",
    "inp = torch.randn(3, 5, requires_grad=True)\n",
    "print(inp)\n",
    "# each element in target has to have 0 <= value < C\n",
    "target = torch.tensor([1, 0, 4])\n",
    "handed_softmax = inp.exp()\n",
    "handed_softmax = handed_softmax/handed_softmax.sum(1, keepdim=True)\n",
    "print(handed_softmax)\n",
    "print(F.softmax(inp, dim=1))\n",
    "#check the inputs of nll_loss func\n",
    "output = F.nll_loss(F.log_softmax(inp, dim=1), target) # log logits and targets\n",
    "print(output)\n",
    "output.backward()\n",
    "print(inp.grad)"
   ]
  },
  {
   "cell_type": "code",
   "execution_count": 47,
   "id": "17fea80d",
   "metadata": {},
   "outputs": [],
   "source": [
    "#creating model class with support of nll_loss and cross_entropy loss\n",
    "\n",
    "\n",
    "class Net_without_one_hot():\n",
    "    def __init__(self, ngrams,gen = None, bias = True,lr = 50, regul = 'L2', lamb = 0.01, name = \"model\", loss = F.nll_loss):\n",
    "        self.ngrams = int(pow(27,ngrams))\n",
    "        self.out = 27 # vocab_size\n",
    "        self.lr = lr\n",
    "        self.lamb = lamb\n",
    "        self.reg = regs[regul]\n",
    "        self.name = name\n",
    "        \n",
    "        self.loss = loss\n",
    "        \n",
    "        if not gen:\n",
    "            self.gen = torch.Generator().manual_seed(2148483647)\n",
    "        else:\n",
    "            self.gen = gen    \n",
    "        self.W = torch.randn((self.ngrams, self.out), generator= self.gen, requires_grad=True)\n",
    "        self.bias = bias\n",
    "        if bias:\n",
    "            self.b = torch.randn((self.out), generator = self.gen, requires_grad=True)\n",
    "            \n",
    "\n",
    "    def train(self, xs, ys, steps=100):\n",
    "        \n",
    "        for k in range(steps):\n",
    "  \n",
    "            # forward pass\n",
    "    \n",
    "            #softmax\n",
    "            if self.loss == F.nll_loss:\n",
    "                logits = F.log_softmax(self.W[xs]+self.b, dim = 1)\n",
    "            elif self.loss == F.cross_entropy:\n",
    "                logits = self.W[xs]+self.b\n",
    "            #-------\n",
    "            \n",
    "            loss = self.loss(logits, ys) + self.reg(self.W, self.lamb)# input : logits after softmax\n",
    "            # backward pass\n",
    "            self.W.grad = None # set to zero the gradient\n",
    "            loss.backward()\n",
    "            \n",
    "            # update\n",
    "            self.W.data += -self.lr * self.W.grad\n",
    "            \n",
    "            \n",
    "        return logits, loss.item()\n",
    "            \n",
    "    def evaluate(self,xs,ys):\n",
    "         \n",
    "        if self.loss == F.nll_loss:\n",
    "            logits = F.log_softmax(self.W[xs], dim = 1) # we should incert bias ande softmax\n",
    "        elif self.loss == F.cross_entropy:\n",
    "            logits = self.W[xs] + self.b\n",
    "\n",
    "        loss = self.loss(logits,ys) + self.reg(self.W, self.lamb)\n",
    "        return loss.item()\n",
    "        \n",
    "    def generate(self,number=10):\n",
    "        # finally, sample from the 'neural net' model\n",
    "        outs = []\n",
    "        for i in range(number):\n",
    "            out = []\n",
    "            ix = 0\n",
    "            while True:\n",
    "                if not out:\n",
    "                    p = P_first\n",
    "                    ix = 0\n",
    "                    # we don't need .. starting point\n",
    "                    while ix==0:\n",
    "                        ix = torch.multinomial(p, num_samples=1, replacement=True, generator=self.gen).item()\n",
    "                    out.append(itob[ix])\n",
    "                    ix = ix\n",
    "                else:             \n",
    "                    p = F.softmax(self.W[ix:ix+1], dim =1)\n",
    "                    #getting last char\n",
    "                    prev_char = itob[ix][-1]\n",
    "                    #generate next char\n",
    "                    ix = torch.multinomial(p, num_samples=1, replacement=True, generator=self.gen).item()\n",
    "                    #current char\n",
    "                    cur_char = itoc[ix]\n",
    "                    out.append(cur_char)\n",
    "                    # check if it's dot\n",
    "                    if ix==0:\n",
    "                        break\n",
    "                    #create next ix  (take second char of last bigramc 'prev_char' and concat with current 'cur_char')\n",
    "                    ix = btoi[prev_char+cur_char]\n",
    "                if ix == 0:\n",
    "                    break\n",
    "\n",
    "            outs.append(''.join(out))\n",
    "        return outs         "
   ]
  },
  {
   "cell_type": "code",
   "execution_count": 48,
   "id": "c88f77c4",
   "metadata": {},
   "outputs": [],
   "source": [
    "nn_test = Net_without_one_hot(2,\n",
    "#                               lr=10,\n",
    "                              loss= F.cross_entropy\n",
    "                             )"
   ]
  },
  {
   "cell_type": "code",
   "execution_count": 49,
   "id": "bdf66444",
   "metadata": {
    "scrolled": true
   },
   "outputs": [
    {
     "name": "stdout",
     "output_type": "stream",
     "text": [
      "train loss on 100 steps for model is 2.6115\n",
      "dev loss on 100 steps for model is 2.6108\n",
      "train loss on 200 steps for model is 2.3867\n",
      "dev loss on 200 steps for model is 2.3927\n",
      "train loss on 300 steps for model is 2.2968\n",
      "dev loss on 300 steps for model is 2.3065\n",
      "train loss on 400 steps for model is 2.2478\n",
      "dev loss on 400 steps for model is 2.2602\n",
      "train loss on 500 steps for model is 2.2170\n",
      "dev loss on 500 steps for model is 2.2319\n",
      "train loss on 600 steps for model is 2.1961\n",
      "dev loss on 600 steps for model is 2.2129\n",
      "train loss on 700 steps for model is 2.1809\n",
      "dev loss on 700 steps for model is 2.1994\n",
      "train loss on 800 steps for model is 2.1695\n",
      "dev loss on 800 steps for model is 2.1894\n",
      "train loss on 900 steps for model is 2.1606\n",
      "dev loss on 900 steps for model is 2.1816\n",
      "train loss on 1000 steps for model is 2.1534\n",
      "dev loss on 1000 steps for model is 2.1755\n",
      "learining rate is changed to 40\n",
      "train loss on 1100 steps for model is 2.1486\n",
      "dev loss on 1100 steps for model is 2.1715\n",
      "train loss on 1200 steps for model is 2.1445\n",
      "dev loss on 1200 steps for model is 2.1681\n",
      "train loss on 1300 steps for model is 2.1410\n",
      "dev loss on 1300 steps for model is 2.1652\n",
      "train loss on 1400 steps for model is 2.1378\n",
      "dev loss on 1400 steps for model is 2.1626\n",
      "train loss on 1500 steps for model is 2.1351\n",
      "dev loss on 1500 steps for model is 2.1604\n",
      "train loss on 1600 steps for model is 2.1326\n",
      "dev loss on 1600 steps for model is 2.1584\n",
      "train loss on 1700 steps for model is 2.1304\n",
      "dev loss on 1700 steps for model is 2.1567\n",
      "train loss on 1800 steps for model is 2.1284\n",
      "dev loss on 1800 steps for model is 2.1551\n",
      "train loss on 1900 steps for model is 2.1266\n",
      "dev loss on 1900 steps for model is 2.1537\n",
      "train loss on 2000 steps for model is 2.1249\n",
      "dev loss on 2000 steps for model is 2.1525\n",
      "learining rate is changed to 30\n",
      "train loss on 2100 steps for model is 2.1238\n",
      "dev loss on 2100 steps for model is 2.1516\n",
      "train loss on 2200 steps for model is 2.1227\n",
      "dev loss on 2200 steps for model is 2.1508\n",
      "train loss on 2300 steps for model is 2.1217\n",
      "dev loss on 2300 steps for model is 2.1501\n",
      "train loss on 2400 steps for model is 2.1208\n",
      "dev loss on 2400 steps for model is 2.1494\n",
      "train loss on 2500 steps for model is 2.1199\n",
      "dev loss on 2500 steps for model is 2.1487\n",
      "train loss on 2600 steps for model is 2.1191\n",
      "dev loss on 2600 steps for model is 2.1481\n",
      "train loss on 2700 steps for model is 2.1183\n",
      "dev loss on 2700 steps for model is 2.1475\n",
      "train loss on 2800 steps for model is 2.1175\n",
      "dev loss on 2800 steps for model is 2.1470\n",
      "train loss on 2900 steps for model is 2.1168\n",
      "dev loss on 2900 steps for model is 2.1465\n",
      "train loss on 3000 steps for model is 2.1162\n",
      "dev loss on 3000 steps for model is 2.1460\n",
      "learining rate is changed to 20\n",
      "Model model dev_loss is 2.1460\n"
     ]
    }
   ],
   "source": [
    "# it's good idea to stop model, when loss change became too small\n",
    "train_ls, dev_ls, stes = train_epoch(nn_test,30,10)"
   ]
  },
  {
   "cell_type": "code",
   "execution_count": 50,
   "id": "0703f0df",
   "metadata": {},
   "outputs": [
    {
     "data": {
      "image/png": "[encoded data removed]",
      "text/plain": [
       "<Figure size 576x288 with 1 Axes>"
      ]
     },
     "metadata": {
      "needs_background": "light"
     },
     "output_type": "display_data"
    }
   ],
   "source": [
    "plt.style.use('ggplot')\n",
    "%matplotlib inline\n",
    "\n",
    "fig, ax = plt.subplots(figsize=(8, 4))\n",
    "ax.plot(range(stes+1), train_ls, alpha=0.5, color='blue', label='train_loss')\n",
    "ax.plot(range(stes+1), dev_ls, alpha=0.5, color='red', label='dev_loss')\n",
    "ax.legend(loc='best')\n",
    "ax.set_ylabel(\"Cross Entropy loss\")\n",
    "ax.set_xlabel(\"Every 100 steps\")\n",
    "ax.set_title('New model with cross entropy loss')\n",
    "\n",
    "plt.show()"
   ]
  },
  {
   "cell_type": "code",
   "execution_count": 51,
   "id": "5e3c836b",
   "metadata": {},
   "outputs": [
    {
     "name": "stdout",
     "output_type": "stream",
     "text": [
      "2.167217254638672\n"
     ]
    }
   ],
   "source": [
    "print(nn_test.evaluate(X_test, y_test))"
   ]
  },
  {
   "cell_type": "code",
   "execution_count": 52,
   "id": "9336e844",
   "metadata": {},
   "outputs": [
    {
     "data": {
      "text/plain": [
       "tensor([-0.2381, -1.7644, -0.2462, -0.4660, -1.1738, -0.6558,  1.8413,  2.5684,\n",
       "        -0.5460, -1.3377,  0.1933, -0.1804,  0.7121,  1.1720, -0.8756, -1.1916,\n",
       "         0.6587,  1.0301, -1.0300, -0.2580,  0.6532,  0.2315, -0.5518, -0.8049,\n",
       "         0.8123,  0.2672,  0.2013], requires_grad=True)"
      ]
     },
     "execution_count": 52,
     "metadata": {},
     "output_type": "execute_result"
    }
   ],
   "source": [
    "nn_test.b"
   ]
  },
  {
   "cell_type": "code",
   "execution_count": 53,
   "id": "553e8ec1",
   "metadata": {},
   "outputs": [
    {
     "name": "stdout",
     "output_type": "stream",
     "text": [
      ".dannayechavaniaconi.\n",
      ".broie.\n",
      ".fia.\n",
      ".ba.\n",
      ".ini.\n",
      ".nean.\n",
      ".gavaanson.\n",
      ".terlia.\n",
      ".jayras.\n",
      ".do.\n"
     ]
    }
   ],
   "source": [
    "for names in nn_test.generate():\n",
    "    print(names)"
   ]
  },
  {
   "cell_type": "markdown",
   "id": "526dcd02",
   "metadata": {},
   "source": [
    "Bias increases loss, but generated names feels more natural(we don't see many consonants in a row). My hypothesis is bias gives general distribution to vowels and make them appear more often."
   ]
  },
  {
   "cell_type": "markdown",
   "id": "5b25c5b2",
   "metadata": {},
   "source": [
    "After changing F.one_hot to indexing number of rows, our dev and test loss increased, but we significantly increased the computation speed "
   ]
  },
  {
   "cell_type": "markdown",
   "id": "f1ca429c",
   "metadata": {},
   "source": [
    "When we compute cross entropy loss, we do not log our logits as in nll_loss, so it's slightly decreasing computation resoures needed"
   ]
  },
  {
   "cell_type": "markdown",
   "id": "f329dbca",
   "metadata": {},
   "source": [
    "# Additional. Time differences between vanila model and modified model."
   ]
  },
  {
   "cell_type": "code",
   "execution_count": 54,
   "id": "551be5be",
   "metadata": {},
   "outputs": [],
   "source": [
    "import time"
   ]
  },
  {
   "cell_type": "code",
   "execution_count": 55,
   "id": "6ede1ceb",
   "metadata": {},
   "outputs": [],
   "source": [
    "nn_old = Net(2)\n",
    "\n",
    "nn_new_ce = Net_without_one_hot(2, loss = F.cross_entropy)\n",
    "\n",
    "nn_new_nll = Net_without_one_hot(2)"
   ]
  },
  {
   "cell_type": "code",
   "execution_count": 56,
   "id": "e8f0d423",
   "metadata": {},
   "outputs": [
    {
     "name": "stdout",
     "output_type": "stream",
     "text": [
      "train loss on 100 steps for model is 2.4005\n",
      "dev loss on 100 steps for model is 2.4040\n",
      "Model model dev_loss is 2.4040\n",
      "CPU times: total: 7min 12s\n",
      "Wall time: 1min 16s\n"
     ]
    }
   ],
   "source": [
    "%%time\n",
    "\n",
    "train_ls, dev_ls, stes = train_epoch(nn_old,1,10)"
   ]
  },
  {
   "cell_type": "code",
   "execution_count": 57,
   "id": "5dcadc7e",
   "metadata": {},
   "outputs": [
    {
     "name": "stdout",
     "output_type": "stream",
     "text": [
      "train loss on 100 steps for model is 2.6115\n",
      "dev loss on 100 steps for model is 2.5136\n",
      "Model model dev_loss is 2.5136\n",
      "CPU times: total: 34.6 s\n",
      "Wall time: 6.03 s\n"
     ]
    }
   ],
   "source": [
    "%%time\n",
    "\n",
    "train_ls, dev_ls, stes = train_epoch(nn_new_nll,1,10)"
   ]
  },
  {
   "cell_type": "code",
   "execution_count": 58,
   "id": "4c517f1b",
   "metadata": {},
   "outputs": [
    {
     "name": "stdout",
     "output_type": "stream",
     "text": [
      "train loss on 100 steps for model is 2.6115\n",
      "dev loss on 100 steps for model is 2.6108\n",
      "Model model dev_loss is 2.6108\n",
      "CPU times: total: 35.7 s\n",
      "Wall time: 6.05 s\n"
     ]
    }
   ],
   "source": [
    "%%time\n",
    "train_ls, dev_ls, stes = train_epoch(nn_new_ce,1,10)"
   ]
  },
  {
   "cell_type": "markdown",
   "id": "a55a1c8f",
   "metadata": {},
   "source": [
    "As we can see, using cross entropy loss significantly improve computation speed. We need more steps to train our model, but it's stil will be faster. I also use softmax function from pytorch instead of formulas, the computation speed of nll increased too."
   ]
  }
 ],
 "metadata": {
  "kernelspec": {
   "display_name": "Python 3 (ipykernel)",
   "language": "python",
   "name": "python3"
  },
  "language_info": {
   "codemirror_mode": {
    "name": "ipython",
    "version": 3
   },
   "file_extension": ".py",
   "mimetype": "text/x-python",
   "name": "python",
   "nbconvert_exporter": "python",
   "pygments_lexer": "ipython3",
   "version": "3.9.12"
  }
 },
 "nbformat": 4,
 "nbformat_minor": 5
}
