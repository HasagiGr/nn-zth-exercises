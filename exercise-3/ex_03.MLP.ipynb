{
 "cells": [
  {
   "cell_type": "markdown",
   "id": "778551c0",
   "metadata": {},
   "source": [
    "# Baseline"
   ]
  },
  {
   "cell_type": "code",
   "execution_count": 1,
   "id": "b4b991cc",
   "metadata": {},
   "outputs": [],
   "source": [
    "import torch\n",
    "import torch.nn.functional as F\n",
    "import matplotlib.pyplot as plt\n",
    "%matplotlib inline"
   ]
  },
  {
   "cell_type": "code",
   "execution_count": 2,
   "id": "f5b03d3b",
   "metadata": {},
   "outputs": [
    {
     "data": {
      "text/plain": [
       "['emma',\n",
       " 'olivia',\n",
       " 'ava',\n",
       " 'isabella',\n",
       " 'sophia',\n",
       " 'charlotte',\n",
       " 'mia',\n",
       " 'amelia',\n",
       " 'harper',\n",
       " 'evelyn']"
      ]
     },
     "execution_count": 2,
     "metadata": {},
     "output_type": "execute_result"
    }
   ],
   "source": [
    "#read in all the words\n",
    "words = open('names.txt','r').read().splitlines()\n",
    "words[0:10]"
   ]
  },
  {
   "cell_type": "code",
   "execution_count": 3,
   "id": "f22992f3",
   "metadata": {},
   "outputs": [
    {
     "name": "stdout",
     "output_type": "stream",
     "text": [
      "{1: 'a', 2: 'b', 3: 'c', 4: 'd', 5: 'e', 6: 'f', 7: 'g', 8: 'h', 9: 'i', 10: 'j', 11: 'k', 12: 'l', 13: 'm', 14: 'n', 15: 'o', 16: 'p', 17: 'q', 18: 'r', 19: 's', 20: 't', 21: 'u', 22: 'v', 23: 'w', 24: 'x', 25: 'y', 26: 'z', 0: '.'}\n"
     ]
    }
   ],
   "source": [
    "# build the vocabulary of characters and mappings to/from integer\n",
    "chars = sorted(list(set(''.join(words))))\n",
    "stoi = {s:i+1 for i,s in enumerate(chars)} # character to integer\n",
    "stoi['.']=0\n",
    "itos = {i:s for s,i in stoi.items()} # integer to chatacter\n",
    "print(itos)"
   ]
  },
  {
   "cell_type": "code",
   "execution_count": 4,
   "id": "40d69951",
   "metadata": {},
   "outputs": [
    {
     "name": "stdout",
     "output_type": "stream",
     "text": [
      "torch.Size([182625, 3]) torch.Size([182625])\n",
      "torch.Size([22655, 3]) torch.Size([22655])\n",
      "torch.Size([22866, 3]) torch.Size([22866])\n"
     ]
    }
   ],
   "source": [
    "# build the dataset with splits\n",
    "block_size = 3 # context length: how many characters do we take to predict the next one?\n",
    "\n",
    "def build_dataset(words):  \n",
    "  X, Y = [], []\n",
    "  for w in words:\n",
    "\n",
    "    #print(w)\n",
    "    context = [0] * block_size\n",
    "    for ch in w + '.':\n",
    "      ix = stoi[ch]\n",
    "      X.append(context)\n",
    "      Y.append(ix)\n",
    "      #print(''.join(itos[i] for i in context), '--->', itos[ix])\n",
    "      context = context[1:] + [ix] # crop and append\n",
    "\n",
    "  X = torch.tensor(X)\n",
    "  Y = torch.tensor(Y)\n",
    "  print(X.shape, Y.shape)\n",
    "  return X, Y\n",
    "\n",
    "import random\n",
    "random.seed(42)\n",
    "random.shuffle(words)\n",
    "n1 = int(0.8*len(words))\n",
    "n2 = int(0.9*len(words))\n",
    "\n",
    "Xtr, Ytr = build_dataset(words[:n1])\n",
    "Xdev, Ydev = build_dataset(words[n1:n2])\n",
    "Xte, Yte = build_dataset(words[n2:])"
   ]
  },
  {
   "cell_type": "code",
   "execution_count": 5,
   "id": "2b915994",
   "metadata": {},
   "outputs": [],
   "source": [
    "g = torch.Generator().manual_seed(2148483647)\n",
    "C = torch.randn((27,10),generator = g)\n",
    "W1 = torch.randn((30,200), generator = g)\n",
    "b1 = torch.randn(200, generator = g)\n",
    "W2 = torch.randn((200,27), generator = g)\n",
    "b2 = torch.randn(27, generator = g)\n",
    "parameters = [C, W1, b1, W2, b2]"
   ]
  },
  {
   "cell_type": "code",
   "execution_count": 6,
   "id": "c4d50559",
   "metadata": {},
   "outputs": [
    {
     "data": {
      "text/plain": [
       "11897"
      ]
     },
     "execution_count": 6,
     "metadata": {},
     "output_type": "execute_result"
    }
   ],
   "source": [
    "sum(p.nelement() for p in parameters) # number of parameters in total"
   ]
  },
  {
   "cell_type": "code",
   "execution_count": 7,
   "id": "93235179",
   "metadata": {},
   "outputs": [],
   "source": [
    "for p in parameters:\n",
    "    p.requires_grad = True"
   ]
  },
  {
   "cell_type": "code",
   "execution_count": 8,
   "id": "bc26e508",
   "metadata": {},
   "outputs": [],
   "source": [
    "#hyperparameters\n",
    "lr = 0.1\n",
    "batch_size = 32"
   ]
  },
  {
   "cell_type": "code",
   "execution_count": 9,
   "id": "f69299d6",
   "metadata": {},
   "outputs": [],
   "source": [
    "lossi = []\n",
    "stepi = []"
   ]
  },
  {
   "cell_type": "code",
   "execution_count": 10,
   "id": "08355559",
   "metadata": {},
   "outputs": [
    {
     "name": "stdout",
     "output_type": "stream",
     "text": [
      "lr was changed to value: 0.025\n",
      "lr was changed to value: 0.00625\n"
     ]
    }
   ],
   "source": [
    "for i in range(200000):\n",
    "    \n",
    "    #minibatch construct\n",
    "    ix = torch.randint(0, Xtr.shape[0], (32,))\n",
    "    \n",
    "    \n",
    "    #forward pass\n",
    "    emb = C[Xtr[ix]] # (32,10,3) \n",
    "    h = torch.tanh(emb.view(-1,30) @ W1 + b1) # (32,100)\n",
    "    logits = h @ W2 + b2 # (32, 27)\n",
    "    loss = F.cross_entropy(logits, Ytr[ix])\n",
    "    \n",
    "\n",
    "    #backward pass\n",
    "    for p in parameters:\n",
    "        p.grad = None\n",
    "    loss.backward()\n",
    "\n",
    "    #update\n",
    "    if i%100000==49999:\n",
    "        lr = lr/4\n",
    "        print(f'lr was changed to value: {lr}')\n",
    "    for p in parameters:\n",
    "        p.data += -lr * p.grad\n",
    "        \n",
    "    # track stats\n",
    "    stepi.append(i)\n",
    "    lossi.append(loss.log10().item()) "
   ]
  },
  {
   "cell_type": "code",
   "execution_count": 11,
   "id": "976a2b07",
   "metadata": {},
   "outputs": [
    {
     "data": {
      "text/plain": [
       "[<matplotlib.lines.Line2D at 0x298fb237310>]"
      ]
     },
     "execution_count": 11,
     "metadata": {},
     "output_type": "execute_result"
    },
    {
     "data": {
      "image/png": "[encoded data removed]",
      "text/plain": [
       "<Figure size 432x288 with 1 Axes>"
      ]
     },
     "metadata": {
      "needs_background": "light"
     },
     "output_type": "display_data"
    }
   ],
   "source": [
    "plt.plot(stepi, lossi)"
   ]
  },
  {
   "cell_type": "code",
   "execution_count": 12,
   "id": "bb635062",
   "metadata": {},
   "outputs": [
    {
     "data": {
      "text/plain": [
       "tensor(2.1395, grad_fn=<NllLossBackward0>)"
      ]
     },
     "execution_count": 12,
     "metadata": {},
     "output_type": "execute_result"
    }
   ],
   "source": [
    "emb = C[Xtr]\n",
    "h = torch.tanh(emb.view(-1,30) @ W1 + b1) # (32,100)\n",
    "logits = h @ W2 + b2 # (32, 27)\n",
    "loss = F.cross_entropy(logits, Ytr)\n",
    "loss"
   ]
  },
  {
   "cell_type": "code",
   "execution_count": 13,
   "id": "ff2078f4",
   "metadata": {},
   "outputs": [
    {
     "data": {
      "text/plain": [
       "tensor(2.1698, grad_fn=<NllLossBackward0>)"
      ]
     },
     "execution_count": 13,
     "metadata": {},
     "output_type": "execute_result"
    }
   ],
   "source": [
    "emb = C[Xdev]\n",
    "h = torch.tanh(emb.view(-1,30) @ W1 + b1) # (32,100)\n",
    "logits = h @ W2 + b2 # (32, 27)\n",
    "loss = F.cross_entropy(logits, Ydev)\n",
    "loss"
   ]
  },
  {
   "cell_type": "code",
   "execution_count": 14,
   "id": "377972d8",
   "metadata": {},
   "outputs": [
    {
     "data": {
      "text/plain": [
       "tensor(2.1717, grad_fn=<NllLossBackward0>)"
      ]
     },
     "execution_count": 14,
     "metadata": {},
     "output_type": "execute_result"
    }
   ],
   "source": [
    "emb = C[Xte]\n",
    "h = torch.tanh(emb.view(-1,30) @ W1 + b1) # (32,100)\n",
    "logits = h @ W2 + b2 # (32, 27)\n",
    "loss = F.cross_entropy(logits, Yte)\n",
    "loss"
   ]
  },
  {
   "cell_type": "code",
   "execution_count": 15,
   "id": "e79ed54b",
   "metadata": {},
   "outputs": [
    {
     "name": "stdout",
     "output_type": "stream",
     "text": [
      "kaine.\n",
      "ash.\n",
      "capridteb.\n",
      "maneah.\n",
      "berty.\n",
      "amariola.\n",
      "atne.\n",
      "ison.\n",
      "teyiah.\n",
      "yam.\n",
      "dyn.\n",
      "mourna.\n",
      "kiya.\n",
      "omany.\n",
      "kugredheiron.\n",
      "lay.\n",
      "zora.\n",
      "brumn.\n",
      "mcantocier.\n",
      "daldalei.\n"
     ]
    }
   ],
   "source": [
    "# sample from the model\n",
    "# g = torch.Generator().manual_seed(2147483647 + 10)\n",
    "\n",
    "for _ in range(20):\n",
    "    \n",
    "    out = []\n",
    "    context = [0] * block_size # initialize with all ...\n",
    "    while True:\n",
    "        emb = C[torch.tensor([context])] # (1,block_size,d)\n",
    "        h = torch.tanh(emb.view(1, -1) @ W1 + b1)\n",
    "        logits = h @ W2 + b2\n",
    "        probs = F.softmax(logits, dim=1)\n",
    "        ix = torch.multinomial(probs, num_samples=1, generator=g).item()\n",
    "        context = context[1:] + [ix]\n",
    "        out.append(ix)\n",
    "        if ix == 0:\n",
    "            break\n",
    "    \n",
    "    print(''.join(itos[i] for i in out))"
   ]
  },
  {
   "cell_type": "markdown",
   "id": "cf5cb346",
   "metadata": {},
   "source": [
    "# Exercise 1."
   ]
  },
  {
   "cell_type": "markdown",
   "id": "27a5ebad",
   "metadata": {},
   "source": [
    "Tune the hyperparameters of the training to beat my best validation loss of 2.2"
   ]
  },
  {
   "cell_type": "code",
   "execution_count": 16,
   "id": "cb65c2fe",
   "metadata": {},
   "outputs": [],
   "source": [
    "# we should (without increasing number of steps):\n",
    "# find optimal way to change lr\n",
    "# find optimal batch size\n",
    "# change hidden layer\n",
    "# initizalise weights (next exercise)\n",
    "# change activation function to LeakyReLU (optional)"
   ]
  },
  {
   "cell_type": "code",
   "execution_count": 17,
   "id": "47a6d260",
   "metadata": {},
   "outputs": [],
   "source": [
    "#regularizations\n",
    "regs = {}\n",
    "\n",
    "regs['L1'] = lambda x, lamb: lamb*(x).mean()\n",
    "regs['L2'] = lambda x, lamb: lamb*(x**2).mean()\n",
    "regs['ElasticNet'] = lambda x, lamb: regs['L1'](x, lamb) + regs['L2'](x, lamb)\n",
    "regs['None'] = lambda x, lamb: 0"
   ]
  },
  {
   "cell_type": "code",
   "execution_count": 18,
   "id": "57bb9297",
   "metadata": {},
   "outputs": [],
   "source": [
    "# create class MLP to not repeat code or manualy change numbers every time we want to change hyperparams\n",
    "\n",
    "class MLP():\n",
    "    def __init__(self, embedding_size = 10, \n",
    "                 hidden_size = 200,\n",
    "                 block_size = 3, \n",
    "                 vocab_size = 27,\n",
    "                 batch_size = 32, \n",
    "                 lr = 0.1,\n",
    "                 skip_connections = False):\n",
    "        #sizes\n",
    "        self.embedding_size = embedding_size\n",
    "        self.hidden_size = hidden_size\n",
    "        self.block_size = block_size\n",
    "        self.vocab_size = vocab_size\n",
    "        self.batch_size = batch_size\n",
    "        \n",
    "        \n",
    "        self.lr = lr\n",
    "        \n",
    "        #regularization and skip_connections\n",
    "        self.skip_connections = skip_connections\n",
    "        self.reg = regs['None']\n",
    "        self.lamb = 0.01\n",
    "        \n",
    "        self.hyperparams = [self.embedding_size, self.hidden_size, self.block_size, self.vocab_size, self.batch_size]\n",
    "    \n",
    "    def init_weights(self):\n",
    "        self.C = torch.randn((self.vocab_size,self.embedding_size))\n",
    "        self.W1 = torch.randn((self.block_size*self.embedding_size,self.hidden_size))\n",
    "        self.b1 = torch.randn(self.hidden_size)\n",
    "        self.W2 = torch.randn((self.hidden_size,self.vocab_size))\n",
    "        self.b2 = torch.randn(self.vocab_size)\n",
    "        \n",
    "#       perfect uniform for exercise 3\n",
    "#         self.C = torch.empty((self.vocab_size,self.embedding_size)).uniform_(0,1)\n",
    "#         self.W1 = torch.empty((self.block_size*self.embedding_size,self.hidden_size)).uniform_(0,1)\n",
    "#         self.b1 = torch.empty(self.hidden_size).uniform_(0,1)\n",
    "#         self.W2 = torch.empty((self.hidden_size,self.vocab_size)).uniform_(0,1)\n",
    "#         self.b2 = torch.empty(self.vocab_size).uniform_(0,1)\n",
    "\n",
    "        self.parameters = [self.C, self.W1, self.b1, self.W2, self.b2]\n",
    "    \n",
    "        if self.skip_connections:\n",
    "            self.Ws = torch.randn(self.block_size*self.embedding_size,self.vocab_size)\n",
    "            self.parameters.append(self.Ws)\n",
    "        \n",
    "        for p in self.parameters:\n",
    "            p.requires_grad = True  \n",
    "            \n",
    "    def n_parameters(self):\n",
    "        \n",
    "        return sum(p.nelement() for p in self.parameters)\n",
    "        \n",
    "    def forward(self, X):\n",
    "        emb = self.C[X] # (X.size,embedding_size,block_size) \n",
    "        \n",
    "        h = torch.tanh(emb.view(-1,self.block_size*self.embedding_size) @ self.W1 + self.b1)\n",
    "        #(X.size,block_size*embedding_size) @ (block_size*embedding_size,hidden_size) ------>  (X.size,hidden_size)\n",
    "        logits = h @ self.W2 + self.b2 \n",
    "        # (X.size,hidden_size) @ (hidden_size, vocab_size) -----> (X.size, vocab_size)\n",
    "        if self.skip_connections:\n",
    "                logits += emb.view(-1,self.block_size*self.embedding_size) @ self.Ws\n",
    "                # (X.size, vocab_size) + (X.size,block_size*embedding_size) @ (block_size*embedding_size,vocab_size)\n",
    "                #----> (X.size, vocab_size+bs*es)\n",
    "        return logits\n",
    "    \n",
    "        \n",
    "    def train(self, X, Y, steps = 10000):\n",
    "        \n",
    "        lossi = []\n",
    "        \n",
    "        for i in range(steps):\n",
    "    \n",
    "            #minibatch construct\n",
    "            ix = torch.randint(0, X.shape[0], (self.batch_size,))\n",
    "\n",
    "            #forward pass\n",
    "            logits = self.forward(X[ix])\n",
    "            loss = F.cross_entropy(logits, Y[ix]) + self.reg(self.W2,self.lamb)\n",
    "            \n",
    "\n",
    "            #backward pass\n",
    "            for p in self.parameters:\n",
    "                p.grad = None\n",
    "            loss.backward()\n",
    "\n",
    "            #update lr\n",
    "            if i%(steps/4) == steps/4-1:\n",
    "                self.lr /=4\n",
    "                print(f'lr was changed to the value: {self.lr}')\n",
    "                \n",
    "                \n",
    "            #update weights\n",
    "            for p in self.parameters:\n",
    "                p.data += -self.lr * p.grad\n",
    "\n",
    "            # track stats\n",
    "            lossi.append(loss.item()) \n",
    "            \n",
    "        return lossi\n",
    "    \n",
    "    def evaluate(self, X, Y):\n",
    "        logits = self.forward(X)\n",
    "        \n",
    "        loss = F.cross_entropy(logits, Y) + self.reg(self.W2,self.lamb)\n",
    "        \n",
    "        return loss.item()\n",
    "    \n",
    "    def generate(self, number = 10):\n",
    "        \n",
    "        names = []\n",
    "        \n",
    "        for _ in range(number):\n",
    "\n",
    "            out = []\n",
    "            context = [0] * self.block_size # initialize with all ...\n",
    "            while True:\n",
    "                logits = self.forward(torch.tensor([context]))\n",
    "                probs = F.softmax(logits, dim=1)\n",
    "                \n",
    "                ix = torch.multinomial(probs, num_samples=1).item()\n",
    "                context = context[1:] + [ix]\n",
    "                out.append(ix)\n",
    "                if ix == 0:\n",
    "                    break\n",
    "            names.append(''.join(itos[i] for i in out))\n",
    "        \n",
    "        return names"
   ]
  },
  {
   "cell_type": "code",
   "execution_count": 19,
   "id": "b1d5255d",
   "metadata": {},
   "outputs": [],
   "source": [
    "# init hyperparams\n",
    "hyperparams = {\n",
    "    'hidden_size': 200,\n",
    "    'batch_size': 32,\n",
    "}\n",
    "steps = 200000"
   ]
  },
  {
   "cell_type": "code",
   "execution_count": 20,
   "id": "d8e5a2a2",
   "metadata": {},
   "outputs": [
    {
     "data": {
      "text/plain": [
       "11897"
      ]
     },
     "execution_count": 20,
     "metadata": {},
     "output_type": "execute_result"
    }
   ],
   "source": [
    "# init model\n",
    "nn = MLP(\n",
    "     **hyperparams\n",
    ")\n",
    "nn.init_weights()\n",
    "\n",
    "nn.n_parameters()"
   ]
  },
  {
   "cell_type": "code",
   "execution_count": 21,
   "id": "9aca1a9d",
   "metadata": {},
   "outputs": [
    {
     "data": {
      "text/plain": [
       "26.445127487182617"
      ]
     },
     "execution_count": 21,
     "metadata": {},
     "output_type": "execute_result"
    }
   ],
   "source": [
    "start_loss = nn.evaluate(Xtr, Ytr)\n",
    "start_loss"
   ]
  },
  {
   "cell_type": "code",
   "execution_count": 22,
   "id": "05edacfa",
   "metadata": {},
   "outputs": [
    {
     "name": "stdout",
     "output_type": "stream",
     "text": [
      "lr was changed to the value: 0.025\n",
      "lr was changed to the value: 0.00625\n",
      "lr was changed to the value: 0.0015625\n",
      "lr was changed to the value: 0.000390625\n"
     ]
    }
   ],
   "source": [
    "loss = nn.train(Xtr,Ytr,steps)"
   ]
  },
  {
   "cell_type": "code",
   "execution_count": 23,
   "id": "3f3dd30b",
   "metadata": {},
   "outputs": [
    {
     "name": "stdout",
     "output_type": "stream",
     "text": [
      "Train loss with default parameters: 2.1412\n",
      "Dev loss with default parameters: 2.1719\n",
      "Test loss with default parameters: 2.1723\n"
     ]
    }
   ],
   "source": [
    "train_loss = nn.evaluate(Xtr, Ytr)\n",
    "print(f'Train loss with default parameters: {train_loss:.4f}')\n",
    "dev_loss = nn.evaluate(Xdev, Ydev)\n",
    "print(f'Dev loss with default parameters: {dev_loss:.4f}')\n",
    "test_loss = nn.evaluate(Xte, Yte)\n",
    "print(f'Test loss with default parameters: {test_loss:.4f}')"
   ]
  },
  {
   "cell_type": "code",
   "execution_count": 24,
   "id": "e3d81f5b",
   "metadata": {},
   "outputs": [
    {
     "data": {
      "text/plain": [
       "[<matplotlib.lines.Line2D at 0x2988210a0d0>]"
      ]
     },
     "execution_count": 24,
     "metadata": {},
     "output_type": "execute_result"
    },
    {
     "data": {
      "image/png": "[encoded data removed]",
      "text/plain": [
       "<Figure size 432x288 with 1 Axes>"
      ]
     },
     "metadata": {
      "needs_background": "light"
     },
     "output_type": "display_data"
    }
   ],
   "source": [
    "plt.plot(range(steps)[0:1000],loss[0:1000])"
   ]
  },
  {
   "cell_type": "code",
   "execution_count": 25,
   "id": "e28a13ce",
   "metadata": {},
   "outputs": [
    {
     "name": "stdout",
     "output_type": "stream",
     "text": [
      "naruchliy.\n",
      "glery.\n",
      "keso.\n",
      "skcis.\n",
      "paliah.\n",
      "anah.\n",
      "krom.\n",
      "rah.\n",
      "perraid.\n",
      "azala.\n"
     ]
    }
   ],
   "source": [
    "for name in nn.generate():\n",
    "    print(name)"
   ]
  },
  {
   "cell_type": "code",
   "execution_count": 26,
   "id": "66005545",
   "metadata": {},
   "outputs": [],
   "source": [
    "# let's check the loss if we increase embedding size to 20"
   ]
  },
  {
   "cell_type": "code",
   "execution_count": 27,
   "id": "4f2d3232",
   "metadata": {},
   "outputs": [
    {
     "data": {
      "text/plain": [
       "18167"
      ]
     },
     "execution_count": 27,
     "metadata": {},
     "output_type": "execute_result"
    }
   ],
   "source": [
    "steps = 200000\n",
    "\n",
    "nn = nn = MLP(\n",
    "     **hyperparams,\n",
    "    embedding_size= 20\n",
    ")\n",
    "nn.init_weights()\n",
    "\n",
    "nn.n_parameters()"
   ]
  },
  {
   "cell_type": "code",
   "execution_count": 28,
   "id": "17ed6322",
   "metadata": {},
   "outputs": [
    {
     "name": "stdout",
     "output_type": "stream",
     "text": [
      "lr was changed to the value: 0.025\n",
      "lr was changed to the value: 0.00625\n",
      "lr was changed to the value: 0.0015625\n",
      "lr was changed to the value: 0.000390625\n"
     ]
    }
   ],
   "source": [
    "loss = nn.train(Xtr,Ytr,steps)"
   ]
  },
  {
   "cell_type": "code",
   "execution_count": 29,
   "id": "cf5e5a93",
   "metadata": {},
   "outputs": [
    {
     "name": "stdout",
     "output_type": "stream",
     "text": [
      "Train loss with default parameters: 2.0753\n",
      "Dev loss with default parameters: 2.1497\n",
      "Test loss with default parameters: 2.1524\n"
     ]
    }
   ],
   "source": [
    "train_loss = nn.evaluate(Xtr, Ytr)\n",
    "print(f'Train loss with default parameters: {train_loss:.4f}')\n",
    "dev_loss = nn.evaluate(Xdev, Ydev)\n",
    "print(f'Dev loss with default parameters: {dev_loss:.4f}')\n",
    "test_loss = nn.evaluate(Xte, Yte)\n",
    "print(f'Test loss with default parameters: {test_loss:.4f}')"
   ]
  },
  {
   "cell_type": "code",
   "execution_count": 30,
   "id": "0e721083",
   "metadata": {},
   "outputs": [],
   "source": [
    "#We  get improvement in our model, so 10 emb_size is not fully representing words in 10-dim space\n",
    "#With future train we can achive better result, we will see this at the end."
   ]
  },
  {
   "cell_type": "code",
   "execution_count": 31,
   "id": "ebe14fa8",
   "metadata": {},
   "outputs": [
    {
     "name": "stdout",
     "output_type": "stream",
     "text": [
      "markinan.\n",
      "zhan.\n",
      "kaily.\n",
      "aliz.\n",
      "jaylen.\n",
      "zari.\n",
      "blushiklennika.\n",
      "jamirashailoh.\n",
      "kenianna.\n",
      "kamsai.\n"
     ]
    }
   ],
   "source": [
    "for name in nn.generate():\n",
    "    print(name)"
   ]
  },
  {
   "cell_type": "markdown",
   "id": "39da8e8f",
   "metadata": {},
   "source": [
    "# Exercise 2."
   ]
  },
  {
   "cell_type": "markdown",
   "id": "de224f2d",
   "metadata": {},
   "source": [
    "I was not careful with the intialization of the network in this video. (1) What is the loss you'd get if the predicted probabilities at initialization were perfectly uniform? What loss do we achieve? (2) Can you tune the initialization to get a starting loss that is much more similar to (1)?"
   ]
  },
  {
   "cell_type": "markdown",
   "id": "827a2987",
   "metadata": {},
   "source": [
    "## Visualizing  goal and current state"
   ]
  },
  {
   "cell_type": "code",
   "execution_count": 32,
   "id": "277a5f9f",
   "metadata": {},
   "outputs": [],
   "source": [
    "# create functions to get statistic\n",
    "def mean(distr):\n",
    "    return sum(distr)/len(distr)\n",
    "               \n",
    "def variance(distr):\n",
    "    mean_ = mean(distr)\n",
    "    return sum((i - mean_) ** 2 for i in distr) / len(distr)"
   ]
  },
  {
   "cell_type": "code",
   "execution_count": 33,
   "id": "6f1518f4",
   "metadata": {},
   "outputs": [
    {
     "name": "stdout",
     "output_type": "stream",
     "text": [
      "Mean of the hidden layer is 0.00845228200840615\n",
      "Varience of the hidden layer is 0.1903990185046878\n"
     ]
    }
   ],
   "source": [
    "# let's get distib from last layer as list\n",
    "distrib_W2 = nn.W2.view(-1).tolist()\n",
    "\n",
    "distrib_mean = sum(distrib_W2)/len(distrib_W2)\n",
    "print(f'Mean of the output layer is {distrib_mean}')\n",
    "\n",
    "distrib_variance = sum((i - distrib_mean) ** 2 for i in distrib_W2) / len(distrib_W2)\n",
    "print(f'Varience of the output layer is {distrib_variance}')"
   ]
  },
  {
   "cell_type": "code",
   "execution_count": 34,
   "id": "8bc38903",
   "metadata": {},
   "outputs": [
    {
     "name": "stdout",
     "output_type": "stream",
     "text": [
      "-0.004302807953216567\n",
      "1.0202582633770982\n"
     ]
    }
   ],
   "source": [
    "init_distr = torch.randn((30,200)).view(-1).tolist()\n",
    "\n",
    "\n",
    "init_mean = sum(init_distr)/len(init_distr)\n",
    "print(init_mean)\n",
    "\n",
    "init_variance = sum((i - init_mean) ** 2 for i in init_distr) / len(init_distr)\n",
    "print(init_variance)"
   ]
  },
  {
   "cell_type": "code",
   "execution_count": 35,
   "id": "63194865",
   "metadata": {},
   "outputs": [
    {
     "data": {
      "image/png": "[encoded data removed]",
      "text/plain": [
       "<Figure size 432x288 with 1 Axes>"
      ]
     },
     "metadata": {
      "needs_background": "light"
     },
     "output_type": "display_data"
    }
   ],
   "source": [
    "plt.hist(init_distr,40)\n",
    "\n",
    "plt.title('Distribution of weights of W2 before trainig')\n",
    "\n",
    "plt.show()"
   ]
  },
  {
   "cell_type": "code",
   "execution_count": 36,
   "id": "dc8da003",
   "metadata": {},
   "outputs": [
    {
     "data": {
      "image/png": "[encoded data removed]",
      "text/plain": [
       "<Figure size 432x288 with 1 Axes>"
      ]
     },
     "metadata": {
      "needs_background": "light"
     },
     "output_type": "display_data"
    }
   ],
   "source": [
    "plt.hist(distrib_W1,40)\n",
    "\n",
    "plt.title('Distribution of weights of W2 after training')\n",
    "\n",
    "plt.show()"
   ]
  },
  {
   "cell_type": "code",
   "execution_count": 37,
   "id": "b64d4eaf",
   "metadata": {},
   "outputs": [],
   "source": [
    "uniform = torch.zeros(10000).uniform_(-1,1).tolist()"
   ]
  },
  {
   "cell_type": "code",
   "execution_count": 38,
   "id": "b5dd6152",
   "metadata": {},
   "outputs": [
    {
     "data": {
      "image/png": "[encoded data removed]",
      "text/plain": [
       "<Figure size 432x288 with 1 Axes>"
      ]
     },
     "metadata": {
      "needs_background": "light"
     },
     "output_type": "display_data"
    }
   ],
   "source": [
    "plt.hist(uniform,40)\n",
    "\n",
    "plt.title('Uniform distribution')\n",
    "\n",
    "plt.show()"
   ]
  },
  {
   "cell_type": "code",
   "execution_count": 39,
   "id": "13d503b2",
   "metadata": {},
   "outputs": [],
   "source": [
    "#To make uniform distrib more uniform-like:\n",
    "#add or deduct values according to their deviation from variance"
   ]
  },
  {
   "cell_type": "code",
   "execution_count": 40,
   "id": "9b64a319",
   "metadata": {},
   "outputs": [],
   "source": [
    "#realization\n",
    "trunc = lambda x: x+2*init_variance if (x<=-2*init_variance) else x+init_variance if (x<=-init_variance) else x if (x<=init_variance) else  x-init_variance if (x<=2*init_variance) else  x-2*init_variance\n",
    "uniform_like = [trunc(i) for i in init_distr]"
   ]
  },
  {
   "cell_type": "code",
   "execution_count": 41,
   "id": "a4722e0a",
   "metadata": {},
   "outputs": [
    {
     "data": {
      "image/png": "[encoded data removed]",
      "text/plain": [
       "<Figure size 432x288 with 1 Axes>"
      ]
     },
     "metadata": {
      "needs_background": "light"
     },
     "output_type": "display_data"
    }
   ],
   "source": [
    "plt.hist(uniform_like,40)\n",
    "\n",
    "plt.title('Uniform_like distribution of weights of W2')\n",
    "\n",
    "plt.show()"
   ]
  },
  {
   "cell_type": "markdown",
   "id": "42c46719",
   "metadata": {},
   "source": [
    "## Check initial loss"
   ]
  },
  {
   "cell_type": "code",
   "execution_count": 42,
   "id": "7d8e398c",
   "metadata": {},
   "outputs": [],
   "source": [
    "# check loss for current init"
   ]
  },
  {
   "cell_type": "code",
   "execution_count": 43,
   "id": "c92349a6",
   "metadata": {},
   "outputs": [],
   "source": [
    "loss_default = []\n",
    "steps = 100\n",
    "\n",
    "for _ in range(steps):\n",
    "    nn = MLP()\n",
    "    nn.init_weights()\n",
    "    \n",
    "    loss = nn.evaluate(Xtr, Ytr)\n",
    "    \n",
    "    loss_default.append(loss)"
   ]
  },
  {
   "cell_type": "code",
   "execution_count": 44,
   "id": "1dac90bf",
   "metadata": {},
   "outputs": [
    {
     "data": {
      "text/plain": [
       "[<matplotlib.lines.Line2D at 0x29881d90940>]"
      ]
     },
     "execution_count": 44,
     "metadata": {},
     "output_type": "execute_result"
    },
    {
     "data": {
      "image/png": "[encoded data removed]",
      "text/plain": [
       "<Figure size 432x288 with 1 Axes>"
      ]
     },
     "metadata": {
      "needs_background": "light"
     },
     "output_type": "display_data"
    }
   ],
   "source": [
    "plt.plot(range(100), loss_default)"
   ]
  },
  {
   "cell_type": "code",
   "execution_count": 45,
   "id": "52c31e2f",
   "metadata": {},
   "outputs": [],
   "source": [
    "#----hyperparams----\n",
    "vocab_size = 27\n",
    "embedding_size = 10\n",
    "block_size = 3\n",
    "hidden_size = 200"
   ]
  },
  {
   "cell_type": "code",
   "execution_count": 46,
   "id": "bf826d54",
   "metadata": {},
   "outputs": [],
   "source": [
    "# create loop for checking loss with uniform init"
   ]
  },
  {
   "cell_type": "code",
   "execution_count": 47,
   "id": "6d6ab286",
   "metadata": {},
   "outputs": [],
   "source": [
    "loss_uniform = []\n",
    "steps = 100\n",
    "\n",
    "for _ in range(steps):\n",
    "    # init weights\n",
    "    C = torch.empty((vocab_size,embedding_size)).uniform_(0,1)\n",
    "    W1 = torch.empty((block_size*embedding_size,hidden_size)).uniform_(0,1)\n",
    "    b1 = torch.empty(hidden_size).uniform_(0,1)\n",
    "    W2 = torch.empty((hidden_size,vocab_size)).uniform_(0,1)\n",
    "    b2 = torch.empty(vocab_size).uniform_(0,1)\n",
    "    \n",
    "    emb = C[Xtr] # (32,10,3) \n",
    "    h = torch.tanh(emb.view(-1,30) @ W1 + b1) # (32,100)\n",
    "    logits = h @ W2 + b2 # (32, 27)\n",
    "    \n",
    "    loss = F.cross_entropy(logits, Ytr)\n",
    "    loss_uniform.append(loss.item())"
   ]
  },
  {
   "cell_type": "code",
   "execution_count": 48,
   "id": "3d02d95b",
   "metadata": {},
   "outputs": [
    {
     "data": {
      "text/plain": [
       "[<matplotlib.lines.Line2D at 0x29881c35760>]"
      ]
     },
     "execution_count": 48,
     "metadata": {},
     "output_type": "execute_result"
    },
    {
     "data": {
      "image/png": "[encoded data removed]",
      "text/plain": [
       "<Figure size 432x288 with 1 Axes>"
      ]
     },
     "metadata": {
      "needs_background": "light"
     },
     "output_type": "display_data"
    }
   ],
   "source": [
    "plt.plot(range(100),loss_uniform)"
   ]
  },
  {
   "cell_type": "code",
   "execution_count": 49,
   "id": "5cd47813",
   "metadata": {},
   "outputs": [],
   "source": [
    "#start loss goes from 23-30 to 5-14, so we need little steps to reach plato\n",
    "\n",
    "#let's check mean and variance of our losses"
   ]
  },
  {
   "cell_type": "code",
   "execution_count": 50,
   "id": "d5477b8b",
   "metadata": {},
   "outputs": [
    {
     "name": "stdout",
     "output_type": "stream",
     "text": [
      "For default initialization mean  is 26.12179811477661, variance is 2.077187946103098\n"
     ]
    }
   ],
   "source": [
    "d_mean = mean(loss_default)\n",
    "d_var = variance(loss_default)\n",
    "print(f'For default initialization mean  is {d_mean}, variance is {d_var}')"
   ]
  },
  {
   "cell_type": "code",
   "execution_count": 51,
   "id": "ce7651a2",
   "metadata": {},
   "outputs": [
    {
     "name": "stdout",
     "output_type": "stream",
     "text": [
      "For uniform initialization mean  is 8.727249026298523, variance is 3.359528293635938\n"
     ]
    }
   ],
   "source": [
    "u_mean = mean(loss_uniform)\n",
    "u_var = variance(loss_uniform)\n",
    "print(f'For uniform initialization mean  is {u_mean}, variance is {u_var}')"
   ]
  },
  {
   "cell_type": "code",
   "execution_count": 52,
   "id": "87ef04a5",
   "metadata": {},
   "outputs": [],
   "source": [
    "# now let's tune init distribution with our function"
   ]
  },
  {
   "cell_type": "markdown",
   "id": "3f9a37f2",
   "metadata": {},
   "source": [
    "## Tunning"
   ]
  },
  {
   "cell_type": "code",
   "execution_count": 53,
   "id": "ed8e0b0c",
   "metadata": {},
   "outputs": [],
   "source": [
    "loss_tuned = []\n",
    "steps = 100\n",
    "\n",
    "for _ in range(steps):\n",
    "    nn = MLP()\n",
    "    nn.init_weights()\n",
    "    for p in nn.parameters:\n",
    "        p.requires_grad = False\n",
    "        p.apply_(trunc)\n",
    "        p.requires_grad = True\n",
    "        \n",
    "    loss = nn.evaluate(Xtr, Ytr)\n",
    "    loss_tuned.append(loss)"
   ]
  },
  {
   "cell_type": "code",
   "execution_count": 54,
   "id": "5732eecc",
   "metadata": {},
   "outputs": [
    {
     "data": {
      "text/plain": [
       "[<matplotlib.lines.Line2D at 0x29883d3dac0>]"
      ]
     },
     "execution_count": 54,
     "metadata": {},
     "output_type": "execute_result"
    },
    {
     "data": {
      "image/png": "[encoded data removed]",
      "text/plain": [
       "<Figure size 432x288 with 1 Axes>"
      ]
     },
     "metadata": {
      "needs_background": "light"
     },
     "output_type": "display_data"
    }
   ],
   "source": [
    "plt.plot(range(steps),loss_tuned)"
   ]
  },
  {
   "cell_type": "code",
   "execution_count": 55,
   "id": "37b73f9f",
   "metadata": {},
   "outputs": [
    {
     "name": "stdout",
     "output_type": "stream",
     "text": [
      "For tuned initialization mean  is 11.520183057785035, variance is 0.7908717603406598\n"
     ]
    }
   ],
   "source": [
    "t_mean = mean(loss_tuned)\n",
    "t_var = variance(loss_tuned)\n",
    "print(f'For tuned initialization mean  is {t_mean}, variance is {t_var}')"
   ]
  },
  {
   "cell_type": "markdown",
   "id": "e6f6ecbb",
   "metadata": {},
   "source": [
    "## Train model with tuned initalization"
   ]
  },
  {
   "cell_type": "code",
   "execution_count": 56,
   "id": "e6e1e76a",
   "metadata": {},
   "outputs": [],
   "source": [
    "def tune_init(model):\n",
    "    for p in model.parameters:\n",
    "        p.requires_grad = False\n",
    "        p.apply_(trunc)\n",
    "        p.requires_grad = True  "
   ]
  },
  {
   "cell_type": "code",
   "execution_count": 57,
   "id": "0720f240",
   "metadata": {},
   "outputs": [],
   "source": [
    "nn = MLP()\n",
    "nn.init_weights()\n",
    "tune_init(nn)\n",
    "\n",
    "steps = 200000"
   ]
  },
  {
   "cell_type": "code",
   "execution_count": 58,
   "id": "560cc65e",
   "metadata": {},
   "outputs": [
    {
     "name": "stdout",
     "output_type": "stream",
     "text": [
      "lr was changed to the value: 0.025\n",
      "lr was changed to the value: 0.00625\n",
      "lr was changed to the value: 0.0015625\n",
      "lr was changed to the value: 0.000390625\n"
     ]
    }
   ],
   "source": [
    "loss = nn.train(Xtr, Ytr, steps)"
   ]
  },
  {
   "cell_type": "code",
   "execution_count": 59,
   "id": "031f277a",
   "metadata": {},
   "outputs": [
    {
     "data": {
      "text/plain": [
       "[<matplotlib.lines.Line2D at 0x29882327970>]"
      ]
     },
     "execution_count": 59,
     "metadata": {},
     "output_type": "execute_result"
    },
    {
     "data": {
      "image/png": "[encoded data removed]",
      "text/plain": [
       "<Figure size 432x288 with 1 Axes>"
      ]
     },
     "metadata": {
      "needs_background": "light"
     },
     "output_type": "display_data"
    }
   ],
   "source": [
    "plt.plot(range(steps)[0:1000],loss[0:1000])"
   ]
  },
  {
   "cell_type": "code",
   "execution_count": 60,
   "id": "d96cd916",
   "metadata": {},
   "outputs": [
    {
     "name": "stdout",
     "output_type": "stream",
     "text": [
      "Train loss with tuned init: 2.0956\n",
      "Dev loss with tuned init: 2.1312\n",
      "Test loss with tuned init: 2.1315\n"
     ]
    }
   ],
   "source": [
    "train_loss = nn.evaluate(Xtr, Ytr)\n",
    "print(f'Train loss with tuned init: {train_loss:.4f}')\n",
    "dev_loss = nn.evaluate(Xdev, Ydev)\n",
    "print(f'Dev loss with tuned init: {dev_loss:.4f}')\n",
    "test_loss = nn.evaluate(Xte, Yte)\n",
    "print(f'Test loss with tuned init: {test_loss:.4f}')"
   ]
  },
  {
   "cell_type": "code",
   "execution_count": 61,
   "id": "86eec21c",
   "metadata": {},
   "outputs": [
    {
     "name": "stdout",
     "output_type": "stream",
     "text": [
      "brynie.\n",
      "rola.\n",
      "iyana.\n",
      "sarbin.\n",
      "najahmadelisabyya.\n",
      "deonton.\n",
      "fir.\n",
      "maira.\n",
      "maleigh.\n",
      "key.\n"
     ]
    }
   ],
   "source": [
    "for name in nn.generate():\n",
    "    print(name)"
   ]
  },
  {
   "cell_type": "markdown",
   "id": "5e4dcb3f",
   "metadata": {},
   "source": [
    "As the result, proper init distribution can reduce loss and make our model much better"
   ]
  },
  {
   "cell_type": "markdown",
   "id": "0ab5cbc3",
   "metadata": {},
   "source": [
    "# Exercise 3."
   ]
  },
  {
   "cell_type": "markdown",
   "id": "51108af6",
   "metadata": {},
   "source": [
    "Read the Bengio et al 2003 paper (link above), implement and try any idea from the paper. Did it work?"
   ]
  },
  {
   "cell_type": "code",
   "execution_count": 62,
   "id": "5e2e4ea0",
   "metadata": {},
   "outputs": [],
   "source": [
    "# let's add skip connections and regularization: \n",
    "# skip connections - concat end logits with embedding vectors \n",
    "# regularization - add L2 to the loss function"
   ]
  },
  {
   "cell_type": "code",
   "execution_count": 63,
   "id": "0d5fc035",
   "metadata": {},
   "outputs": [],
   "source": [
    "# add additional W-matrix (block_size*embedding_size,vocab_size) to convert embedding to outputs\n",
    "# in forward pass we add:\n",
    "##if self.skip_connections:\n",
    "##    logits += emb.view(-1,self.block_size*self.embedding_size) @ self.Ws\n",
    "# we add reg to loss function"
   ]
  },
  {
   "cell_type": "code",
   "execution_count": 64,
   "id": "0fa8b76e",
   "metadata": {},
   "outputs": [
    {
     "data": {
      "text/plain": [
       "12707"
      ]
     },
     "execution_count": 64,
     "metadata": {},
     "output_type": "execute_result"
    }
   ],
   "source": [
    "nn = MLP(skip_connections=True)\n",
    "\n",
    "steps = 200000\n",
    "\n",
    "nn.init_weights()\n",
    "tune_init(nn)\n",
    "nn.reg = regs['L2']\n",
    "\n",
    "\n",
    "\n",
    "nn.n_parameters()"
   ]
  },
  {
   "cell_type": "code",
   "execution_count": 65,
   "id": "c0bfe366",
   "metadata": {},
   "outputs": [
    {
     "name": "stdout",
     "output_type": "stream",
     "text": [
      "lr was changed to the value: 0.025\n",
      "lr was changed to the value: 0.00625\n",
      "lr was changed to the value: 0.0015625\n",
      "lr was changed to the value: 0.000390625\n"
     ]
    }
   ],
   "source": [
    "loss = nn.train(Xtr, Ytr, steps)"
   ]
  },
  {
   "cell_type": "code",
   "execution_count": 66,
   "id": "37fe7197",
   "metadata": {},
   "outputs": [
    {
     "data": {
      "text/plain": [
       "[<matplotlib.lines.Line2D at 0x298822db9a0>]"
      ]
     },
     "execution_count": 66,
     "metadata": {},
     "output_type": "execute_result"
    },
    {
     "data": {
      "image/png": "[encoded data removed]",
      "text/plain": [
       "<Figure size 432x288 with 1 Axes>"
      ]
     },
     "metadata": {
      "needs_background": "light"
     },
     "output_type": "display_data"
    }
   ],
   "source": [
    "plt.plot(range(steps)[0:1000],loss[0:1000])"
   ]
  },
  {
   "cell_type": "code",
   "execution_count": 67,
   "id": "568585a3",
   "metadata": {},
   "outputs": [
    {
     "name": "stdout",
     "output_type": "stream",
     "text": [
      "Train loss with tuned parameters and skip_connections: 2.0970\n",
      "Dev loss with tuned parameters and skip_connections: 2.1331\n",
      "Test loss with tuned parameters and skip_connections: 2.1297\n"
     ]
    }
   ],
   "source": [
    "train_loss = nn.evaluate(Xtr, Ytr)\n",
    "print(f'Train loss with tuned parameters and skip_connections: {train_loss:.4f}')\n",
    "dev_loss = nn.evaluate(Xdev, Ydev)\n",
    "print(f'Dev loss with tuned parameters and skip_connections: {dev_loss:.4f}')\n",
    "test_loss = nn.evaluate(Xte, Yte)\n",
    "print(f'Test loss with tuned parameters and skip_connections: {test_loss:.4f}')"
   ]
  },
  {
   "cell_type": "code",
   "execution_count": 68,
   "id": "9f9324e4",
   "metadata": {},
   "outputs": [
    {
     "name": "stdout",
     "output_type": "stream",
     "text": [
      "kolvin.\n",
      "omni.\n",
      "faue.\n",
      "lybe.\n",
      "cen.\n",
      "garcinley.\n",
      "aleeno.\n",
      "jayza.\n",
      "kenzidra.\n",
      "jere.\n"
     ]
    }
   ],
   "source": [
    "for name in nn.generate():\n",
    "    print(name)"
   ]
  },
  {
   "cell_type": "markdown",
   "id": "a1f0387a",
   "metadata": {},
   "source": [
    "Now we have more information to predict (logits+embeddings instead of only logits) and have fewer chances to overfitting due to regularization, so we can take more steps"
   ]
  },
  {
   "cell_type": "markdown",
   "id": "1da86ba8",
   "metadata": {},
   "source": [
    "# Best model with highest score"
   ]
  },
  {
   "cell_type": "code",
   "execution_count": 69,
   "id": "3d93cc61",
   "metadata": {},
   "outputs": [],
   "source": [
    "# Here let's try to achieve the lowest lost we can get"
   ]
  },
  {
   "cell_type": "code",
   "execution_count": 70,
   "id": "15822411",
   "metadata": {},
   "outputs": [],
   "source": [
    "# init hyperparams\n",
    "hyperparams = {\n",
    "    'block_size': 4,\n",
    "    'embedding_size':15,\n",
    "    'hidden_size': 250,\n",
    "    'batch_size': 64,\n",
    "}\n",
    "steps = 400000"
   ]
  },
  {
   "cell_type": "code",
   "execution_count": 71,
   "id": "5d8ae68e",
   "metadata": {},
   "outputs": [
    {
     "name": "stdout",
     "output_type": "stream",
     "text": [
      "torch.Size([182473, 4]) torch.Size([182473])\n",
      "torch.Size([22827, 4]) torch.Size([22827])\n",
      "torch.Size([22846, 4]) torch.Size([22846])\n"
     ]
    }
   ],
   "source": [
    "# build the dataset with splits\n",
    "block_size = hyperparams['block_size'] \n",
    "\n",
    "random.shuffle(words)\n",
    "n1 = int(0.8*len(words))\n",
    "n2 = int(0.9*len(words))\n",
    "\n",
    "Xtr, Ytr = build_dataset(words[:n1])\n",
    "Xdev, Ydev = build_dataset(words[n1:n2])\n",
    "Xte, Yte = build_dataset(words[n2:])"
   ]
  },
  {
   "cell_type": "code",
   "execution_count": 72,
   "id": "a081d891",
   "metadata": {},
   "outputs": [
    {
     "data": {
      "text/plain": [
       "24052"
      ]
     },
     "execution_count": 72,
     "metadata": {},
     "output_type": "execute_result"
    }
   ],
   "source": [
    "nn_best = MLP(\n",
    "    **hyperparams,\n",
    "skip_connections=True\n",
    ")\n",
    "\n",
    "nn_best.init_weights()\n",
    "tune_init(nn_best)\n",
    "nn_best.reg = regs['L2']\n",
    "\n",
    "nn_best.n_parameters()"
   ]
  },
  {
   "cell_type": "code",
   "execution_count": 73,
   "id": "e11261d1",
   "metadata": {},
   "outputs": [
    {
     "name": "stdout",
     "output_type": "stream",
     "text": [
      "lr was changed to the value: 0.025\n",
      "lr was changed to the value: 0.00625\n",
      "lr was changed to the value: 0.0015625\n",
      "lr was changed to the value: 0.000390625\n"
     ]
    }
   ],
   "source": [
    "loss =  nn_best.train(Xtr,Ytr, steps)"
   ]
  },
  {
   "cell_type": "code",
   "execution_count": 74,
   "id": "203e5ef9",
   "metadata": {},
   "outputs": [
    {
     "name": "stdout",
     "output_type": "stream",
     "text": [
      "Train loss with best hyperparams: 1.9460\n",
      "Dev loss with best hyperparams: 2.0563\n",
      "Test loss with best hyperparams: 2.0570\n"
     ]
    }
   ],
   "source": [
    "train_loss = nn_best.evaluate(Xtr, Ytr)\n",
    "print(f'Train loss with best hyperparams: {train_loss:.4f}')\n",
    "dev_loss = nn_best.evaluate(Xdev, Ydev)\n",
    "print(f'Dev loss with best hyperparams: {dev_loss:.4f}')\n",
    "test_loss = nn_best.evaluate(Xte, Yte)\n",
    "print(f'Test loss with best hyperparams: {test_loss:.4f}')"
   ]
  },
  {
   "cell_type": "code",
   "execution_count": 75,
   "id": "502e50bc",
   "metadata": {},
   "outputs": [
    {
     "name": "stdout",
     "output_type": "stream",
     "text": [
      "tim.\n",
      "emarriah.\n",
      "maho.\n",
      "atha.\n",
      "hollistes.\n",
      "kylia.\n",
      "franke.\n",
      "laiel.\n",
      "othan.\n",
      "pinchelomena.\n"
     ]
    }
   ],
   "source": [
    "for name in nn_best.generate():\n",
    "    print(name)"
   ]
  },
  {
   "cell_type": "markdown",
   "id": "3f0f694d",
   "metadata": {},
   "source": [
    "Best test loss we achieved is 2.0570"
   ]
  }
 ],
 "metadata": {
  "kernelspec": {
   "display_name": "Python 3 (ipykernel)",
   "language": "python",
   "name": "python3"
  },
  "language_info": {
   "codemirror_mode": {
    "name": "ipython",
    "version": 3
   },
   "file_extension": ".py",
   "mimetype": "text/x-python",
   "name": "python",
   "nbconvert_exporter": "python",
   "pygments_lexer": "ipython3",
   "version": "3.9.12"
  }
 },
 "nbformat": 4,
 "nbformat_minor": 5
}
